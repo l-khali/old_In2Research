{
 "cells": [
  {
   "cell_type": "code",
   "execution_count": 1,
   "metadata": {},
   "outputs": [],
   "source": [
    "import numpy as np\n",
    "import pandas as pd\n",
    "from pandas import Series\n",
    "import matplotlib.pyplot as plt\n",
    "from datetime import datetime, timedelta\n",
    "import scipy.stats as stats\n",
    "import scipy.ndimage as ndimage\n",
    "import pymannkendall as mk"
   ]
  },
  {
   "cell_type": "code",
   "execution_count": 2,
   "metadata": {},
   "outputs": [
    {
     "data": {
      "text/html": [
       "<div>\n",
       "<style scoped>\n",
       "    .dataframe tbody tr th:only-of-type {\n",
       "        vertical-align: middle;\n",
       "    }\n",
       "\n",
       "    .dataframe tbody tr th {\n",
       "        vertical-align: top;\n",
       "    }\n",
       "\n",
       "    .dataframe thead th {\n",
       "        text-align: right;\n",
       "    }\n",
       "</style>\n",
       "<table border=\"1\" class=\"dataframe\">\n",
       "  <thead>\n",
       "    <tr style=\"text-align: right;\">\n",
       "      <th></th>\n",
       "      <th>Project ID</th>\n",
       "      <th>birth_deid_date</th>\n",
       "      <th>death_deid_date</th>\n",
       "      <th>sex</th>\n",
       "      <th>icu_visit</th>\n",
       "      <th>icu_start_deid_dttm</th>\n",
       "      <th>icu_end_deid_dttm</th>\n",
       "      <th>failed_extubation_flag</th>\n",
       "      <th>failed_extubation_deid_date</th>\n",
       "      <th>intubation_flag</th>\n",
       "      <th>extubation_flag</th>\n",
       "      <th>extubation_deid_date</th>\n",
       "      <th>extubation_score</th>\n",
       "      <th>re_intubation_deid_date</th>\n",
       "      <th>icu_ward</th>\n",
       "    </tr>\n",
       "  </thead>\n",
       "  <tbody>\n",
       "    <tr>\n",
       "      <th>0</th>\n",
       "      <td>PC0192</td>\n",
       "      <td>22/06/2004</td>\n",
       "      <td>NaN</td>\n",
       "      <td>Male</td>\n",
       "      <td>1</td>\n",
       "      <td>22/12/2016 11:53</td>\n",
       "      <td>18/02/2017 17:13</td>\n",
       "      <td>1</td>\n",
       "      <td>10/01/2017 18:00</td>\n",
       "      <td>1</td>\n",
       "      <td>1</td>\n",
       "      <td>28/12/2016 18:00</td>\n",
       "      <td>5</td>\n",
       "      <td>11/01/2017 14:00</td>\n",
       "      <td>FLAMI</td>\n",
       "    </tr>\n",
       "  </tbody>\n",
       "</table>\n",
       "</div>"
      ],
      "text/plain": [
       "  Project ID birth_deid_date  death_deid_date   sex  icu_visit  \\\n",
       "0     PC0192      22/06/2004              NaN  Male          1   \n",
       "\n",
       "  icu_start_deid_dttm icu_end_deid_dttm  failed_extubation_flag  \\\n",
       "0    22/12/2016 11:53  18/02/2017 17:13                       1   \n",
       "\n",
       "  failed_extubation_deid_date  intubation_flag  extubation_flag  \\\n",
       "0            10/01/2017 18:00                1                1   \n",
       "\n",
       "  extubation_deid_date  extubation_score re_intubation_deid_date icu_ward  \n",
       "0     28/12/2016 18:00                 5        11/01/2017 14:00    FLAMI  "
      ]
     },
     "execution_count": 2,
     "metadata": {},
     "output_type": "execute_result"
    }
   ],
   "source": [
    "# importing data\n",
    "# numpy array with columns of date/time and num_value\n",
    "\n",
    "PC_0192_details = pd.read_csv(\"Details_PC-0192.csv\", sep=',')\n",
    "# dtype='str', comments=\"#\", delimiter=\"\\t\", unpack=False)\n",
    "PC_0192_details"
   ]
  },
  {
   "cell_type": "code",
   "execution_count": 3,
   "metadata": {},
   "outputs": [],
   "source": [
    "# changing required fields to correct datetime data type to avoid string issues\n",
    "\n",
    "PC_0192_details['failed_extubation_deid_date'] = pd.to_datetime(PC_0192_details['failed_extubation_deid_date'], format='%d/%m/%Y %H:%M')\n",
    "PC_0192_details['re_intubation_deid_date'] = pd.to_datetime(PC_0192_details['re_intubation_deid_date'], format='%d/%m/%Y %H:%M')"
   ]
  },
  {
   "cell_type": "code",
   "execution_count": 4,
   "metadata": {},
   "outputs": [
    {
     "name": "stdout",
     "output_type": "stream",
     "text": [
      "2017-01-10 18:00:00 2017-01-11 14:00:00\n"
     ]
    }
   ],
   "source": [
    "failed_extubation = PC_0192_details.iloc[0,8]\n",
    "re_intubation = PC_0192_details.iloc[0,13]\n",
    "\n",
    "print(failed_extubation, re_intubation)"
   ]
  },
  {
   "cell_type": "code",
   "execution_count": 9,
   "metadata": {},
   "outputs": [
    {
     "data": {
      "text/html": [
       "<div>\n",
       "<style scoped>\n",
       "    .dataframe tbody tr th:only-of-type {\n",
       "        vertical-align: middle;\n",
       "    }\n",
       "\n",
       "    .dataframe tbody tr th {\n",
       "        vertical-align: top;\n",
       "    }\n",
       "\n",
       "    .dataframe thead th {\n",
       "        text-align: right;\n",
       "    }\n",
       "</style>\n",
       "<table border=\"1\" class=\"dataframe\">\n",
       "  <thead>\n",
       "    <tr style=\"text-align: right;\">\n",
       "      <th></th>\n",
       "      <th>monitor</th>\n",
       "      <th>record_date_time</th>\n",
       "      <th>num_value</th>\n",
       "    </tr>\n",
       "  </thead>\n",
       "  <tbody>\n",
       "    <tr>\n",
       "      <th>0</th>\n",
       "      <td>RR</td>\n",
       "      <td>2016-12-22 12:09:31</td>\n",
       "      <td>17</td>\n",
       "    </tr>\n",
       "    <tr>\n",
       "      <th>1</th>\n",
       "      <td>RR</td>\n",
       "      <td>2016-12-22 12:09:36</td>\n",
       "      <td>18</td>\n",
       "    </tr>\n",
       "    <tr>\n",
       "      <th>2</th>\n",
       "      <td>RR</td>\n",
       "      <td>2016-12-22 12:09:41</td>\n",
       "      <td>17</td>\n",
       "    </tr>\n",
       "    <tr>\n",
       "      <th>3</th>\n",
       "      <td>RR</td>\n",
       "      <td>2016-12-22 12:09:46</td>\n",
       "      <td>17</td>\n",
       "    </tr>\n",
       "    <tr>\n",
       "      <th>4</th>\n",
       "      <td>RR</td>\n",
       "      <td>2016-12-22 12:09:51</td>\n",
       "      <td>17</td>\n",
       "    </tr>\n",
       "    <tr>\n",
       "      <th>...</th>\n",
       "      <td>...</td>\n",
       "      <td>...</td>\n",
       "      <td>...</td>\n",
       "    </tr>\n",
       "    <tr>\n",
       "      <th>1131421</th>\n",
       "      <td>RR</td>\n",
       "      <td>2017-02-18 17:08:34</td>\n",
       "      <td>36</td>\n",
       "    </tr>\n",
       "    <tr>\n",
       "      <th>1131422</th>\n",
       "      <td>RR</td>\n",
       "      <td>2017-02-18 17:08:39</td>\n",
       "      <td>35</td>\n",
       "    </tr>\n",
       "    <tr>\n",
       "      <th>1131423</th>\n",
       "      <td>RR</td>\n",
       "      <td>2017-02-18 17:08:44</td>\n",
       "      <td>31</td>\n",
       "    </tr>\n",
       "    <tr>\n",
       "      <th>1131424</th>\n",
       "      <td>RR</td>\n",
       "      <td>2017-02-18 17:08:49</td>\n",
       "      <td>30</td>\n",
       "    </tr>\n",
       "    <tr>\n",
       "      <th>1131425</th>\n",
       "      <td>RR</td>\n",
       "      <td>2017-02-18 17:08:54</td>\n",
       "      <td>28</td>\n",
       "    </tr>\n",
       "  </tbody>\n",
       "</table>\n",
       "<p>1131426 rows × 3 columns</p>\n",
       "</div>"
      ],
      "text/plain": [
       "        monitor    record_date_time  num_value\n",
       "0            RR 2016-12-22 12:09:31         17\n",
       "1            RR 2016-12-22 12:09:36         18\n",
       "2            RR 2016-12-22 12:09:41         17\n",
       "3            RR 2016-12-22 12:09:46         17\n",
       "4            RR 2016-12-22 12:09:51         17\n",
       "...         ...                 ...        ...\n",
       "1131421      RR 2017-02-18 17:08:34         36\n",
       "1131422      RR 2017-02-18 17:08:39         35\n",
       "1131423      RR 2017-02-18 17:08:44         31\n",
       "1131424      RR 2017-02-18 17:08:49         30\n",
       "1131425      RR 2017-02-18 17:08:54         28\n",
       "\n",
       "[1131426 rows x 3 columns]"
      ]
     },
     "execution_count": 9,
     "metadata": {},
     "output_type": "execute_result"
    }
   ],
   "source": [
    "PC_0192_RR_data = pd.read_csv(\"PC0192/PC0192_1_RR.csv\", sep=',')\n",
    "PC_0192_RR_data['record_date_time'] = pd.to_datetime(PC_0192_RR_data['record_date_time'], format='%Y-%m-%d %H:%M:%S')\n",
    "PC_0192_RR_data\n"
   ]
  },
  {
   "cell_type": "code",
   "execution_count": 24,
   "metadata": {},
   "outputs": [
    {
     "name": "stdout",
     "output_type": "stream",
     "text": [
      "436087 450068\n"
     ]
    },
    {
     "data": {
      "text/html": [
       "<div>\n",
       "<style scoped>\n",
       "    .dataframe tbody tr th:only-of-type {\n",
       "        vertical-align: middle;\n",
       "    }\n",
       "\n",
       "    .dataframe tbody tr th {\n",
       "        vertical-align: top;\n",
       "    }\n",
       "\n",
       "    .dataframe thead th {\n",
       "        text-align: right;\n",
       "    }\n",
       "</style>\n",
       "<table border=\"1\" class=\"dataframe\">\n",
       "  <thead>\n",
       "    <tr style=\"text-align: right;\">\n",
       "      <th></th>\n",
       "      <th>monitor</th>\n",
       "      <th>record_date_time</th>\n",
       "      <th>num_value</th>\n",
       "    </tr>\n",
       "  </thead>\n",
       "  <tbody>\n",
       "    <tr>\n",
       "      <th>436088</th>\n",
       "      <td>combination</td>\n",
       "      <td>2017-01-10 18:00:06</td>\n",
       "      <td>28</td>\n",
       "    </tr>\n",
       "    <tr>\n",
       "      <th>436089</th>\n",
       "      <td>RR</td>\n",
       "      <td>2017-01-10 18:00:11</td>\n",
       "      <td>26</td>\n",
       "    </tr>\n",
       "    <tr>\n",
       "      <th>436090</th>\n",
       "      <td>RR</td>\n",
       "      <td>2017-01-10 18:00:16</td>\n",
       "      <td>26</td>\n",
       "    </tr>\n",
       "    <tr>\n",
       "      <th>436091</th>\n",
       "      <td>RR</td>\n",
       "      <td>2017-01-10 18:00:21</td>\n",
       "      <td>25</td>\n",
       "    </tr>\n",
       "    <tr>\n",
       "      <th>436092</th>\n",
       "      <td>RR</td>\n",
       "      <td>2017-01-10 18:00:26</td>\n",
       "      <td>29</td>\n",
       "    </tr>\n",
       "    <tr>\n",
       "      <th>...</th>\n",
       "      <td>...</td>\n",
       "      <td>...</td>\n",
       "      <td>...</td>\n",
       "    </tr>\n",
       "    <tr>\n",
       "      <th>450062</th>\n",
       "      <td>RR</td>\n",
       "      <td>2017-01-11 13:59:46</td>\n",
       "      <td>36</td>\n",
       "    </tr>\n",
       "    <tr>\n",
       "      <th>450063</th>\n",
       "      <td>awRR</td>\n",
       "      <td>2017-01-11 13:59:46</td>\n",
       "      <td>35</td>\n",
       "    </tr>\n",
       "    <tr>\n",
       "      <th>450064</th>\n",
       "      <td>RR</td>\n",
       "      <td>2017-01-11 13:59:52</td>\n",
       "      <td>37</td>\n",
       "    </tr>\n",
       "    <tr>\n",
       "      <th>450065</th>\n",
       "      <td>awRR</td>\n",
       "      <td>2017-01-11 13:59:52</td>\n",
       "      <td>37</td>\n",
       "    </tr>\n",
       "    <tr>\n",
       "      <th>450066</th>\n",
       "      <td>RR</td>\n",
       "      <td>2017-01-11 13:59:56</td>\n",
       "      <td>39</td>\n",
       "    </tr>\n",
       "  </tbody>\n",
       "</table>\n",
       "<p>13979 rows × 3 columns</p>\n",
       "</div>"
      ],
      "text/plain": [
       "            monitor    record_date_time  num_value\n",
       "436088  combination 2017-01-10 18:00:06         28\n",
       "436089           RR 2017-01-10 18:00:11         26\n",
       "436090           RR 2017-01-10 18:00:16         26\n",
       "436091           RR 2017-01-10 18:00:21         25\n",
       "436092           RR 2017-01-10 18:00:26         29\n",
       "...             ...                 ...        ...\n",
       "450062           RR 2017-01-11 13:59:46         36\n",
       "450063         awRR 2017-01-11 13:59:46         35\n",
       "450064           RR 2017-01-11 13:59:52         37\n",
       "450065         awRR 2017-01-11 13:59:52         37\n",
       "450066           RR 2017-01-11 13:59:56         39\n",
       "\n",
       "[13979 rows x 3 columns]"
      ]
     },
     "execution_count": 24,
     "metadata": {},
     "output_type": "execute_result"
    }
   ],
   "source": [
    "# finding indexes at which failed_extubation and re_intubation would need to be inserted to maintain order\n",
    "\n",
    "failed_extubation_index = PC_0192_RR_data.record_date_time.searchsorted(failed_extubation)\n",
    "re_intubation_index = PC_0192_RR_data.record_date_time.searchsorted(re_intubation)\n",
    "\n",
    "print(failed_extubation_index, re_intubation_index)\n",
    "\n",
    "PC_0192_RR_extubated = PC_0192_RR_data.iloc[failed_extubation_index+1:re_intubation_index-1, :]\n",
    "PC_0192_RR_extubated"
   ]
  },
  {
   "cell_type": "code",
   "execution_count": 22,
   "metadata": {},
   "outputs": [
    {
     "name": "stderr",
     "output_type": "stream",
     "text": [
      "/Users/lucindakhalil/opt/anaconda3/lib/python3.8/site-packages/pandas/core/indexing.py:1732: SettingWithCopyWarning: \n",
      "A value is trying to be set on a copy of a slice from a DataFrame\n",
      "\n",
      "See the caveats in the documentation: https://pandas.pydata.org/pandas-docs/stable/user_guide/indexing.html#returning-a-view-versus-a-copy\n",
      "  self._setitem_single_block(indexer, value, name)\n",
      "/Users/lucindakhalil/opt/anaconda3/lib/python3.8/site-packages/pandas/core/indexing.py:1732: SettingWithCopyWarning: \n",
      "A value is trying to be set on a copy of a slice from a DataFrame\n",
      "\n",
      "See the caveats in the documentation: https://pandas.pydata.org/pandas-docs/stable/user_guide/indexing.html#returning-a-view-versus-a-copy\n",
      "  self._setitem_single_block(indexer, value, name)\n"
     ]
    }
   ],
   "source": [
    "# replacing duplicates with an average value\n",
    "# only checking slices of the next 30 data points\n",
    "\n",
    "for idx1, val1 in enumerate(PC_0192_RR_extubated['record_date_time']):\n",
    "    for idx2, val2 in enumerate(PC_0192_RR_extubated['record_date_time'][idx1+1:idx1+50]):\n",
    "        if val1 == val2:\n",
    "            PC_0192_RR_extubated['num_value'].iloc[idx2] = 0.5*(PC_0192_RR_extubated['num_value'].iloc[idx1]+PC_0192_RR_extubated['num_value'].iloc[idx2])\n",
    "            PC_0192_RR_extubated['monitor'].iloc[idx2] = \"combination\"\n",
    "            PC_0192_RR_extubated = PC_0192_RR_extubated.drop(PC_0192_RR_extubated.index[idx1])\n"
   ]
  },
  {
   "cell_type": "code",
   "execution_count": 25,
   "metadata": {},
   "outputs": [
    {
     "data": {
      "text/plain": [
       "RangeIndex(start=436088, stop=450067, step=1)"
      ]
     },
     "execution_count": 25,
     "metadata": {},
     "output_type": "execute_result"
    }
   ],
   "source": [
    "PC_0192_RR_extubated.index"
   ]
  },
  {
   "cell_type": "code",
   "execution_count": null,
   "metadata": {},
   "outputs": [],
   "source": []
  }
 ],
 "metadata": {
  "kernelspec": {
   "display_name": "Python 3.8.12 ('base')",
   "language": "python",
   "name": "python3"
  },
  "language_info": {
   "codemirror_mode": {
    "name": "ipython",
    "version": 3
   },
   "file_extension": ".py",
   "mimetype": "text/x-python",
   "name": "python",
   "nbconvert_exporter": "python",
   "pygments_lexer": "ipython3",
   "version": "3.8.12"
  },
  "orig_nbformat": 4,
  "vscode": {
   "interpreter": {
    "hash": "908e60022c9d4979c292b8b79e14df3460174af298c7d4fb047b137ea57e6458"
   }
  }
 },
 "nbformat": 4,
 "nbformat_minor": 2
}
