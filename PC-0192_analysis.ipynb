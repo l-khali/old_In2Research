{
 "cells": [
  {
   "cell_type": "code",
   "execution_count": 196,
   "metadata": {},
   "outputs": [],
   "source": [
    "import numpy as np\n",
    "import pandas as pd\n",
    "from pandas import Series\n",
    "import matplotlib.pyplot as plt\n",
    "from datetime import datetime, timedelta\n",
    "import scipy.stats as stats\n",
    "import pymannkendall as mk\n"
   ]
  },
  {
   "cell_type": "code",
   "execution_count": 132,
   "metadata": {},
   "outputs": [
    {
     "data": {
      "text/html": [
       "<div>\n",
       "<style scoped>\n",
       "    .dataframe tbody tr th:only-of-type {\n",
       "        vertical-align: middle;\n",
       "    }\n",
       "\n",
       "    .dataframe tbody tr th {\n",
       "        vertical-align: top;\n",
       "    }\n",
       "\n",
       "    .dataframe thead th {\n",
       "        text-align: right;\n",
       "    }\n",
       "</style>\n",
       "<table border=\"1\" class=\"dataframe\">\n",
       "  <thead>\n",
       "    <tr style=\"text-align: right;\">\n",
       "      <th></th>\n",
       "      <th>Project ID</th>\n",
       "      <th>birth_deid_date</th>\n",
       "      <th>death_deid_date</th>\n",
       "      <th>sex</th>\n",
       "      <th>icu_visit</th>\n",
       "      <th>icu_start_deid_dttm</th>\n",
       "      <th>icu_end_deid_dttm</th>\n",
       "      <th>failed_extubation_flag</th>\n",
       "      <th>failed_extubation_deid_date</th>\n",
       "      <th>intubation_flag</th>\n",
       "      <th>extubation_flag</th>\n",
       "      <th>extubation_deid_date</th>\n",
       "      <th>extubation_score</th>\n",
       "      <th>re_intubation_deid_date</th>\n",
       "      <th>icu_ward</th>\n",
       "    </tr>\n",
       "  </thead>\n",
       "  <tbody>\n",
       "    <tr>\n",
       "      <th>0</th>\n",
       "      <td>PC0192</td>\n",
       "      <td>22/06/2004</td>\n",
       "      <td>NaN</td>\n",
       "      <td>Male</td>\n",
       "      <td>1</td>\n",
       "      <td>22/12/2016 11:53</td>\n",
       "      <td>18/02/2017 17:13</td>\n",
       "      <td>1</td>\n",
       "      <td>10/01/2017 18:00</td>\n",
       "      <td>1</td>\n",
       "      <td>1</td>\n",
       "      <td>28/12/2016 18:00</td>\n",
       "      <td>5</td>\n",
       "      <td>11/01/2017 14:00</td>\n",
       "      <td>FLAMI</td>\n",
       "    </tr>\n",
       "  </tbody>\n",
       "</table>\n",
       "</div>"
      ],
      "text/plain": [
       "  Project ID birth_deid_date  death_deid_date   sex  icu_visit  \\\n",
       "0     PC0192      22/06/2004              NaN  Male          1   \n",
       "\n",
       "  icu_start_deid_dttm icu_end_deid_dttm  failed_extubation_flag  \\\n",
       "0    22/12/2016 11:53  18/02/2017 17:13                       1   \n",
       "\n",
       "  failed_extubation_deid_date  intubation_flag  extubation_flag  \\\n",
       "0            10/01/2017 18:00                1                1   \n",
       "\n",
       "  extubation_deid_date  extubation_score re_intubation_deid_date icu_ward  \n",
       "0     28/12/2016 18:00                 5        11/01/2017 14:00    FLAMI  "
      ]
     },
     "execution_count": 132,
     "metadata": {},
     "output_type": "execute_result"
    }
   ],
   "source": [
    "# importing data\n",
    "# numpy array with columns of date/time and num_value\n",
    "\n",
    "PC_0192_details = pd.read_csv(\"Details_PC-0192.csv\", sep=',')\n",
    "# dtype='str', comments=\"#\", delimiter=\"\\t\", unpack=False)\n",
    "PC_0192_details"
   ]
  },
  {
   "cell_type": "code",
   "execution_count": 133,
   "metadata": {},
   "outputs": [],
   "source": [
    "# changing required fields to correct datetime data type to avoid string issues\n",
    "\n",
    "PC_0192_details['failed_extubation_deid_date'] = pd.to_datetime(PC_0192_details['failed_extubation_deid_date'], format='%d/%m/%Y %H:%M')\n",
    "PC_0192_details['re_intubation_deid_date'] = pd.to_datetime(PC_0192_details['re_intubation_deid_date'], format='%d/%m/%Y %H:%M')"
   ]
  },
  {
   "cell_type": "code",
   "execution_count": 134,
   "metadata": {},
   "outputs": [
    {
     "data": {
      "text/html": [
       "<div>\n",
       "<style scoped>\n",
       "    .dataframe tbody tr th:only-of-type {\n",
       "        vertical-align: middle;\n",
       "    }\n",
       "\n",
       "    .dataframe tbody tr th {\n",
       "        vertical-align: top;\n",
       "    }\n",
       "\n",
       "    .dataframe thead th {\n",
       "        text-align: right;\n",
       "    }\n",
       "</style>\n",
       "<table border=\"1\" class=\"dataframe\">\n",
       "  <thead>\n",
       "    <tr style=\"text-align: right;\">\n",
       "      <th></th>\n",
       "      <th>Project ID</th>\n",
       "      <th>birth_deid_date</th>\n",
       "      <th>death_deid_date</th>\n",
       "      <th>sex</th>\n",
       "      <th>icu_visit</th>\n",
       "      <th>icu_start_deid_dttm</th>\n",
       "      <th>icu_end_deid_dttm</th>\n",
       "      <th>failed_extubation_flag</th>\n",
       "      <th>failed_extubation_deid_date</th>\n",
       "      <th>intubation_flag</th>\n",
       "      <th>extubation_flag</th>\n",
       "      <th>extubation_deid_date</th>\n",
       "      <th>extubation_score</th>\n",
       "      <th>re_intubation_deid_date</th>\n",
       "      <th>icu_ward</th>\n",
       "    </tr>\n",
       "  </thead>\n",
       "  <tbody>\n",
       "    <tr>\n",
       "      <th>0</th>\n",
       "      <td>PC0192</td>\n",
       "      <td>22/06/2004</td>\n",
       "      <td>NaN</td>\n",
       "      <td>Male</td>\n",
       "      <td>1</td>\n",
       "      <td>22/12/2016 11:53</td>\n",
       "      <td>18/02/2017 17:13</td>\n",
       "      <td>1</td>\n",
       "      <td>2017-01-10 18:00:00</td>\n",
       "      <td>1</td>\n",
       "      <td>1</td>\n",
       "      <td>28/12/2016 18:00</td>\n",
       "      <td>5</td>\n",
       "      <td>2017-01-11 14:00:00</td>\n",
       "      <td>FLAMI</td>\n",
       "    </tr>\n",
       "  </tbody>\n",
       "</table>\n",
       "</div>"
      ],
      "text/plain": [
       "  Project ID birth_deid_date  death_deid_date   sex  icu_visit  \\\n",
       "0     PC0192      22/06/2004              NaN  Male          1   \n",
       "\n",
       "  icu_start_deid_dttm icu_end_deid_dttm  failed_extubation_flag  \\\n",
       "0    22/12/2016 11:53  18/02/2017 17:13                       1   \n",
       "\n",
       "  failed_extubation_deid_date  intubation_flag  extubation_flag  \\\n",
       "0         2017-01-10 18:00:00                1                1   \n",
       "\n",
       "  extubation_deid_date  extubation_score re_intubation_deid_date icu_ward  \n",
       "0     28/12/2016 18:00                 5     2017-01-11 14:00:00    FLAMI  "
      ]
     },
     "execution_count": 134,
     "metadata": {},
     "output_type": "execute_result"
    }
   ],
   "source": [
    "PC_0192_details"
   ]
  },
  {
   "cell_type": "code",
   "execution_count": 135,
   "metadata": {},
   "outputs": [
    {
     "name": "stdout",
     "output_type": "stream",
     "text": [
      "2017-01-10 18:00:00 2017-01-11 14:00:00\n"
     ]
    }
   ],
   "source": [
    "failed_extubation = PC_0192_details.iloc[0,8]\n",
    "re_intubation = PC_0192_details.iloc[0,13]\n",
    "\n",
    "print(failed_extubation, re_intubation)"
   ]
  },
  {
   "cell_type": "code",
   "execution_count": 136,
   "metadata": {},
   "outputs": [
    {
     "data": {
      "text/html": [
       "<div>\n",
       "<style scoped>\n",
       "    .dataframe tbody tr th:only-of-type {\n",
       "        vertical-align: middle;\n",
       "    }\n",
       "\n",
       "    .dataframe tbody tr th {\n",
       "        vertical-align: top;\n",
       "    }\n",
       "\n",
       "    .dataframe thead th {\n",
       "        text-align: right;\n",
       "    }\n",
       "</style>\n",
       "<table border=\"1\" class=\"dataframe\">\n",
       "  <thead>\n",
       "    <tr style=\"text-align: right;\">\n",
       "      <th></th>\n",
       "      <th>monitor</th>\n",
       "      <th>record_date_time</th>\n",
       "      <th>num_value</th>\n",
       "    </tr>\n",
       "  </thead>\n",
       "  <tbody>\n",
       "    <tr>\n",
       "      <th>0</th>\n",
       "      <td>HR</td>\n",
       "      <td>2016-12-22 12:09:21</td>\n",
       "      <td>98</td>\n",
       "    </tr>\n",
       "    <tr>\n",
       "      <th>1</th>\n",
       "      <td>HR</td>\n",
       "      <td>2016-12-22 12:09:26</td>\n",
       "      <td>98</td>\n",
       "    </tr>\n",
       "    <tr>\n",
       "      <th>2</th>\n",
       "      <td>HR</td>\n",
       "      <td>2016-12-22 12:09:31</td>\n",
       "      <td>98</td>\n",
       "    </tr>\n",
       "    <tr>\n",
       "      <th>3</th>\n",
       "      <td>HR</td>\n",
       "      <td>2016-12-22 12:09:36</td>\n",
       "      <td>96</td>\n",
       "    </tr>\n",
       "    <tr>\n",
       "      <th>4</th>\n",
       "      <td>HR</td>\n",
       "      <td>2016-12-22 12:09:41</td>\n",
       "      <td>97</td>\n",
       "    </tr>\n",
       "    <tr>\n",
       "      <th>...</th>\n",
       "      <td>...</td>\n",
       "      <td>...</td>\n",
       "      <td>...</td>\n",
       "    </tr>\n",
       "    <tr>\n",
       "      <th>942176</th>\n",
       "      <td>HR</td>\n",
       "      <td>2017-02-18 17:08:34</td>\n",
       "      <td>96</td>\n",
       "    </tr>\n",
       "    <tr>\n",
       "      <th>942177</th>\n",
       "      <td>HR</td>\n",
       "      <td>2017-02-18 17:08:39</td>\n",
       "      <td>96</td>\n",
       "    </tr>\n",
       "    <tr>\n",
       "      <th>942178</th>\n",
       "      <td>HR</td>\n",
       "      <td>2017-02-18 17:08:44</td>\n",
       "      <td>95</td>\n",
       "    </tr>\n",
       "    <tr>\n",
       "      <th>942179</th>\n",
       "      <td>HR</td>\n",
       "      <td>2017-02-18 17:08:49</td>\n",
       "      <td>96</td>\n",
       "    </tr>\n",
       "    <tr>\n",
       "      <th>942180</th>\n",
       "      <td>HR</td>\n",
       "      <td>2017-02-18 17:08:54</td>\n",
       "      <td>96</td>\n",
       "    </tr>\n",
       "  </tbody>\n",
       "</table>\n",
       "<p>942181 rows × 3 columns</p>\n",
       "</div>"
      ],
      "text/plain": [
       "       monitor     record_date_time  num_value\n",
       "0           HR  2016-12-22 12:09:21         98\n",
       "1           HR  2016-12-22 12:09:26         98\n",
       "2           HR  2016-12-22 12:09:31         98\n",
       "3           HR  2016-12-22 12:09:36         96\n",
       "4           HR  2016-12-22 12:09:41         97\n",
       "...        ...                  ...        ...\n",
       "942176      HR  2017-02-18 17:08:34         96\n",
       "942177      HR  2017-02-18 17:08:39         96\n",
       "942178      HR  2017-02-18 17:08:44         95\n",
       "942179      HR  2017-02-18 17:08:49         96\n",
       "942180      HR  2017-02-18 17:08:54         96\n",
       "\n",
       "[942181 rows x 3 columns]"
      ]
     },
     "execution_count": 136,
     "metadata": {},
     "output_type": "execute_result"
    }
   ],
   "source": [
    "# creating df for the time series data\n",
    "\n",
    "PC_0192_data = pd.read_csv(\"PC0192_1_HR.csv\", sep=',')\n",
    "PC_0192_data"
   ]
  },
  {
   "cell_type": "code",
   "execution_count": 137,
   "metadata": {},
   "outputs": [
    {
     "data": {
      "text/html": [
       "<div>\n",
       "<style scoped>\n",
       "    .dataframe tbody tr th:only-of-type {\n",
       "        vertical-align: middle;\n",
       "    }\n",
       "\n",
       "    .dataframe tbody tr th {\n",
       "        vertical-align: top;\n",
       "    }\n",
       "\n",
       "    .dataframe thead th {\n",
       "        text-align: right;\n",
       "    }\n",
       "</style>\n",
       "<table border=\"1\" class=\"dataframe\">\n",
       "  <thead>\n",
       "    <tr style=\"text-align: right;\">\n",
       "      <th></th>\n",
       "      <th>monitor</th>\n",
       "      <th>record_date_time</th>\n",
       "      <th>num_value</th>\n",
       "    </tr>\n",
       "  </thead>\n",
       "  <tbody>\n",
       "    <tr>\n",
       "      <th>0</th>\n",
       "      <td>HR</td>\n",
       "      <td>2016-12-22 12:09:21</td>\n",
       "      <td>98</td>\n",
       "    </tr>\n",
       "    <tr>\n",
       "      <th>1</th>\n",
       "      <td>HR</td>\n",
       "      <td>2016-12-22 12:09:26</td>\n",
       "      <td>98</td>\n",
       "    </tr>\n",
       "    <tr>\n",
       "      <th>2</th>\n",
       "      <td>HR</td>\n",
       "      <td>2016-12-22 12:09:31</td>\n",
       "      <td>98</td>\n",
       "    </tr>\n",
       "    <tr>\n",
       "      <th>3</th>\n",
       "      <td>HR</td>\n",
       "      <td>2016-12-22 12:09:36</td>\n",
       "      <td>96</td>\n",
       "    </tr>\n",
       "    <tr>\n",
       "      <th>4</th>\n",
       "      <td>HR</td>\n",
       "      <td>2016-12-22 12:09:41</td>\n",
       "      <td>97</td>\n",
       "    </tr>\n",
       "    <tr>\n",
       "      <th>...</th>\n",
       "      <td>...</td>\n",
       "      <td>...</td>\n",
       "      <td>...</td>\n",
       "    </tr>\n",
       "    <tr>\n",
       "      <th>942176</th>\n",
       "      <td>HR</td>\n",
       "      <td>2017-02-18 17:08:34</td>\n",
       "      <td>96</td>\n",
       "    </tr>\n",
       "    <tr>\n",
       "      <th>942177</th>\n",
       "      <td>HR</td>\n",
       "      <td>2017-02-18 17:08:39</td>\n",
       "      <td>96</td>\n",
       "    </tr>\n",
       "    <tr>\n",
       "      <th>942178</th>\n",
       "      <td>HR</td>\n",
       "      <td>2017-02-18 17:08:44</td>\n",
       "      <td>95</td>\n",
       "    </tr>\n",
       "    <tr>\n",
       "      <th>942179</th>\n",
       "      <td>HR</td>\n",
       "      <td>2017-02-18 17:08:49</td>\n",
       "      <td>96</td>\n",
       "    </tr>\n",
       "    <tr>\n",
       "      <th>942180</th>\n",
       "      <td>HR</td>\n",
       "      <td>2017-02-18 17:08:54</td>\n",
       "      <td>96</td>\n",
       "    </tr>\n",
       "  </tbody>\n",
       "</table>\n",
       "<p>942181 rows × 3 columns</p>\n",
       "</div>"
      ],
      "text/plain": [
       "       monitor    record_date_time  num_value\n",
       "0           HR 2016-12-22 12:09:21         98\n",
       "1           HR 2016-12-22 12:09:26         98\n",
       "2           HR 2016-12-22 12:09:31         98\n",
       "3           HR 2016-12-22 12:09:36         96\n",
       "4           HR 2016-12-22 12:09:41         97\n",
       "...        ...                 ...        ...\n",
       "942176      HR 2017-02-18 17:08:34         96\n",
       "942177      HR 2017-02-18 17:08:39         96\n",
       "942178      HR 2017-02-18 17:08:44         95\n",
       "942179      HR 2017-02-18 17:08:49         96\n",
       "942180      HR 2017-02-18 17:08:54         96\n",
       "\n",
       "[942181 rows x 3 columns]"
      ]
     },
     "execution_count": 137,
     "metadata": {},
     "output_type": "execute_result"
    }
   ],
   "source": [
    "# making sure 'record_date_time' is of the correct type\n",
    "\n",
    "# PC_0192_data['record_date_time'] = PC_0192_data['record_date_time'].dt.strftime('%d/%m/%Y %H:%M:%S')\n",
    "PC_0192_data['record_date_time'] = pd.to_datetime(PC_0192_data['record_date_time'], format='%Y-%m-%d %H:%M:%S')\n",
    "PC_0192_data"
   ]
  },
  {
   "cell_type": "code",
   "execution_count": 138,
   "metadata": {},
   "outputs": [],
   "source": [
    "# 'failed_extubation' and 're_intubation' are formatted differently to 'PC_0192_data'\n",
    "# change manually for now, BUT COME BACK TO THIS AND CHANGE PROPERLY\n",
    "\n",
    "# failed_extubation_2 = '2017-01-10 18:00:00'\n",
    "# re_intubation_2 = '2017-01-11 14:00:00'\n",
    "\n",
    "# fixed this"
   ]
  },
  {
   "cell_type": "code",
   "execution_count": 139,
   "metadata": {},
   "outputs": [],
   "source": [
    "# PC_0192_data.timestamp.searchsorted(failed_extubation)"
   ]
  },
  {
   "cell_type": "code",
   "execution_count": 140,
   "metadata": {},
   "outputs": [],
   "source": [
    "# dt='2022-02-07T23:18:06.08349'\n",
    "# PC_0192_data. timestamp.searchsorted(dt)"
   ]
  },
  {
   "cell_type": "code",
   "execution_count": 141,
   "metadata": {},
   "outputs": [],
   "source": [
    "# np.where(PC_0192_data[\"record_date_time\"] == test)[0]"
   ]
  },
  {
   "cell_type": "code",
   "execution_count": 142,
   "metadata": {},
   "outputs": [],
   "source": [
    "# failed_extubation = pd.to_datetime(failed_extubation)\n",
    "# s = PC_0192_data['record_date_time'].loc[PC_0192_data['record_date_time'].index.unique()[PC_0192_data['record_date_time'].index.unique().get_loc(failed_extubation, method='nearest')]]"
   ]
  },
  {
   "cell_type": "code",
   "execution_count": 143,
   "metadata": {},
   "outputs": [
    {
     "name": "stdout",
     "output_type": "stream",
     "text": [
      "320515 334633\n"
     ]
    }
   ],
   "source": [
    "# finding indexes at which failed_extubation and re_intubation would need to be inserted to maintain order\n",
    "\n",
    "failed_extubation_index = PC_0192_data.record_date_time.searchsorted(failed_extubation)\n",
    "re_intubation_index = PC_0192_data.record_date_time.searchsorted(re_intubation)\n",
    "\n",
    "print(failed_extubation_index, re_intubation_index)"
   ]
  },
  {
   "cell_type": "code",
   "execution_count": 144,
   "metadata": {},
   "outputs": [
    {
     "data": {
      "text/html": [
       "<div>\n",
       "<style scoped>\n",
       "    .dataframe tbody tr th:only-of-type {\n",
       "        vertical-align: middle;\n",
       "    }\n",
       "\n",
       "    .dataframe tbody tr th {\n",
       "        vertical-align: top;\n",
       "    }\n",
       "\n",
       "    .dataframe thead th {\n",
       "        text-align: right;\n",
       "    }\n",
       "</style>\n",
       "<table border=\"1\" class=\"dataframe\">\n",
       "  <thead>\n",
       "    <tr style=\"text-align: right;\">\n",
       "      <th></th>\n",
       "      <th>monitor</th>\n",
       "      <th>record_date_time</th>\n",
       "      <th>num_value</th>\n",
       "    </tr>\n",
       "  </thead>\n",
       "  <tbody>\n",
       "    <tr>\n",
       "      <th>320516</th>\n",
       "      <td>HR</td>\n",
       "      <td>2017-01-10 18:00:06</td>\n",
       "      <td>100</td>\n",
       "    </tr>\n",
       "    <tr>\n",
       "      <th>320517</th>\n",
       "      <td>HR</td>\n",
       "      <td>2017-01-10 18:00:11</td>\n",
       "      <td>100</td>\n",
       "    </tr>\n",
       "    <tr>\n",
       "      <th>320518</th>\n",
       "      <td>HR</td>\n",
       "      <td>2017-01-10 18:00:16</td>\n",
       "      <td>100</td>\n",
       "    </tr>\n",
       "    <tr>\n",
       "      <th>320519</th>\n",
       "      <td>HR</td>\n",
       "      <td>2017-01-10 18:00:21</td>\n",
       "      <td>100</td>\n",
       "    </tr>\n",
       "    <tr>\n",
       "      <th>320520</th>\n",
       "      <td>HR</td>\n",
       "      <td>2017-01-10 18:00:26</td>\n",
       "      <td>99</td>\n",
       "    </tr>\n",
       "    <tr>\n",
       "      <th>...</th>\n",
       "      <td>...</td>\n",
       "      <td>...</td>\n",
       "      <td>...</td>\n",
       "    </tr>\n",
       "    <tr>\n",
       "      <th>334627</th>\n",
       "      <td>HR</td>\n",
       "      <td>2017-01-11 13:59:32</td>\n",
       "      <td>121</td>\n",
       "    </tr>\n",
       "    <tr>\n",
       "      <th>334628</th>\n",
       "      <td>HR</td>\n",
       "      <td>2017-01-11 13:59:36</td>\n",
       "      <td>121</td>\n",
       "    </tr>\n",
       "    <tr>\n",
       "      <th>334629</th>\n",
       "      <td>HR</td>\n",
       "      <td>2017-01-11 13:59:42</td>\n",
       "      <td>121</td>\n",
       "    </tr>\n",
       "    <tr>\n",
       "      <th>334630</th>\n",
       "      <td>HR</td>\n",
       "      <td>2017-01-11 13:59:46</td>\n",
       "      <td>121</td>\n",
       "    </tr>\n",
       "    <tr>\n",
       "      <th>334631</th>\n",
       "      <td>HR</td>\n",
       "      <td>2017-01-11 13:59:52</td>\n",
       "      <td>121</td>\n",
       "    </tr>\n",
       "  </tbody>\n",
       "</table>\n",
       "<p>14116 rows × 3 columns</p>\n",
       "</div>"
      ],
      "text/plain": [
       "       monitor    record_date_time  num_value\n",
       "320516      HR 2017-01-10 18:00:06        100\n",
       "320517      HR 2017-01-10 18:00:11        100\n",
       "320518      HR 2017-01-10 18:00:16        100\n",
       "320519      HR 2017-01-10 18:00:21        100\n",
       "320520      HR 2017-01-10 18:00:26         99\n",
       "...        ...                 ...        ...\n",
       "334627      HR 2017-01-11 13:59:32        121\n",
       "334628      HR 2017-01-11 13:59:36        121\n",
       "334629      HR 2017-01-11 13:59:42        121\n",
       "334630      HR 2017-01-11 13:59:46        121\n",
       "334631      HR 2017-01-11 13:59:52        121\n",
       "\n",
       "[14116 rows x 3 columns]"
      ]
     },
     "execution_count": 144,
     "metadata": {},
     "output_type": "execute_result"
    }
   ],
   "source": [
    "# lifting data for the time peried where patient was extubated\n",
    "\n",
    "PC_0192_extubated = PC_0192_data.iloc[failed_extubation_index+1:re_intubation_index-1, :]\n",
    "PC_0192_extubated"
   ]
  },
  {
   "cell_type": "code",
   "execution_count": 145,
   "metadata": {},
   "outputs": [
    {
     "data": {
      "text/plain": [
       "<AxesSubplot:xlabel='record_date_time'>"
      ]
     },
     "execution_count": 145,
     "metadata": {},
     "output_type": "execute_result"
    },
    {
     "data": {
      "image/png": "[encoded data removed]",
      "text/plain": [
       "<Figure size 1080x792 with 1 Axes>"
      ]
     },
     "metadata": {
      "needs_background": "light"
     },
     "output_type": "display_data"
    }
   ],
   "source": [
    "PC_0192_extubated.plot('record_date_time', 'num_value', figsize=(15, 11))"
   ]
  },
  {
   "cell_type": "markdown",
   "metadata": {},
   "source": [
    "- anomalous point just before 01-11 00:00?\n",
    "- leave as is for now"
   ]
  },
  {
   "cell_type": "code",
   "execution_count": 146,
   "metadata": {},
   "outputs": [
    {
     "data": {
      "text/plain": [
       "Timestamp('2017-01-11 13:59:52')"
      ]
     },
     "execution_count": 146,
     "metadata": {},
     "output_type": "execute_result"
    }
   ],
   "source": [
    "# use timedelta to add a period of time to a timestamp:\n",
    "\n",
    "PC_0192_extubated['record_date_time'].iloc[0] + timedelta(minutes=10)\n",
    "PC_0192_extubated['record_date_time'].iloc[-1]"
   ]
  },
  {
   "cell_type": "markdown",
   "metadata": {},
   "source": [
    "### Rolling mean:"
   ]
  },
  {
   "cell_type": "code",
   "execution_count": 147,
   "metadata": {},
   "outputs": [],
   "source": [
    "# following has incorrect timestamps\n",
    "\n",
    "# k = 0\n",
    "\n",
    "# PC_0192_mean = pd.DataFrame(columns=['start_time','end_time','mean'])\n",
    "\n",
    "# while (PC_0192_extubated['record_date_time'].iloc[0] + timedelta(minutes=10+k)) < PC_0192_extubated['record_date_time'].iloc[-1]:\n",
    "\n",
    "#     index_1 = PC_0192_extubated.record_date_time.searchsorted(PC_0192_extubated['record_date_time'].iloc[0] + timedelta(minutes=k))\n",
    "#     index_2 = PC_0192_extubated.record_date_time.searchsorted(PC_0192_extubated['record_date_time'].iloc[0] + timedelta(minutes=10+k))\n",
    "\n",
    "#     mean = PC_0192_extubated['num_value'][index_1:index_2].mean(axis=0)\n",
    "\n",
    "#     PC_0192_mean = PC_0192_mean.append({'start_time': PC_0192_extubated['record_date_time'].iloc[0] + timedelta(minutes=k),\n",
    "#     'end_time':PC_0192_extubated['record_date_time'].iloc[0] + timedelta(minutes=10+k), 'mean':mean}, ignore_index=True)\n",
    "#     k += 1\n"
   ]
  },
  {
   "cell_type": "code",
   "execution_count": 148,
   "metadata": {},
   "outputs": [],
   "source": [
    "k = 0\n",
    "\n",
    "PC_0192_mean = pd.DataFrame(columns=['start_time','end_time','mean'])\n",
    "\n",
    "while (PC_0192_extubated['record_date_time'].iloc[0] + timedelta(minutes=10+k)) < PC_0192_extubated['record_date_time'].iloc[-1]:\n",
    "\n",
    "    index_1 = PC_0192_extubated.record_date_time.searchsorted(PC_0192_extubated['record_date_time'].iloc[0] + timedelta(minutes=k))\n",
    "    index_2 = PC_0192_extubated.record_date_time.searchsorted(PC_0192_extubated['record_date_time'].iloc[0] + timedelta(minutes=10+k))\n",
    "\n",
    "    mean = PC_0192_extubated['num_value'][index_1:index_2].mean(axis=0)\n",
    "\n",
    "    PC_0192_mean = PC_0192_mean.append({'start_time': PC_0192_extubated['record_date_time'].iloc[index_1], 'end_time':PC_0192_extubated['record_date_time'].iloc[index_2], 'mean':mean}, ignore_index=True)\n",
    "    k += 1"
   ]
  },
  {
   "cell_type": "code",
   "execution_count": 149,
   "metadata": {},
   "outputs": [
    {
     "data": {
      "text/plain": [
       "Timestamp('2017-01-11 13:49:07')"
      ]
     },
     "execution_count": 149,
     "metadata": {},
     "output_type": "execute_result"
    }
   ],
   "source": [
    "PC_0192_extubated['record_date_time'].iloc[index_1]"
   ]
  },
  {
   "cell_type": "code",
   "execution_count": 150,
   "metadata": {},
   "outputs": [
    {
     "data": {
      "text/html": [
       "<div>\n",
       "<style scoped>\n",
       "    .dataframe tbody tr th:only-of-type {\n",
       "        vertical-align: middle;\n",
       "    }\n",
       "\n",
       "    .dataframe tbody tr th {\n",
       "        vertical-align: top;\n",
       "    }\n",
       "\n",
       "    .dataframe thead th {\n",
       "        text-align: right;\n",
       "    }\n",
       "</style>\n",
       "<table border=\"1\" class=\"dataframe\">\n",
       "  <thead>\n",
       "    <tr style=\"text-align: right;\">\n",
       "      <th></th>\n",
       "      <th>start_time</th>\n",
       "      <th>end_time</th>\n",
       "      <th>mean</th>\n",
       "    </tr>\n",
       "  </thead>\n",
       "  <tbody>\n",
       "    <tr>\n",
       "      <th>0</th>\n",
       "      <td>2017-01-10 18:00:06</td>\n",
       "      <td>2017-01-10 18:10:06</td>\n",
       "      <td>99.521008</td>\n",
       "    </tr>\n",
       "    <tr>\n",
       "      <th>1</th>\n",
       "      <td>2017-01-10 18:01:06</td>\n",
       "      <td>2017-01-10 18:11:06</td>\n",
       "      <td>99.487395</td>\n",
       "    </tr>\n",
       "    <tr>\n",
       "      <th>2</th>\n",
       "      <td>2017-01-10 18:02:11</td>\n",
       "      <td>2017-01-10 18:12:06</td>\n",
       "      <td>99.344538</td>\n",
       "    </tr>\n",
       "    <tr>\n",
       "      <th>3</th>\n",
       "      <td>2017-01-10 18:03:06</td>\n",
       "      <td>2017-01-10 18:13:06</td>\n",
       "      <td>99.383333</td>\n",
       "    </tr>\n",
       "    <tr>\n",
       "      <th>4</th>\n",
       "      <td>2017-01-10 18:04:06</td>\n",
       "      <td>2017-01-10 18:14:06</td>\n",
       "      <td>99.4</td>\n",
       "    </tr>\n",
       "    <tr>\n",
       "      <th>...</th>\n",
       "      <td>...</td>\n",
       "      <td>...</td>\n",
       "      <td>...</td>\n",
       "    </tr>\n",
       "    <tr>\n",
       "      <th>1185</th>\n",
       "      <td>2017-01-11 13:45:07</td>\n",
       "      <td>2017-01-11 13:55:07</td>\n",
       "      <td>119.408333</td>\n",
       "    </tr>\n",
       "    <tr>\n",
       "      <th>1186</th>\n",
       "      <td>2017-01-11 13:46:07</td>\n",
       "      <td>2017-01-11 13:56:06</td>\n",
       "      <td>119.916667</td>\n",
       "    </tr>\n",
       "    <tr>\n",
       "      <th>1187</th>\n",
       "      <td>2017-01-11 13:47:07</td>\n",
       "      <td>2017-01-11 13:57:06</td>\n",
       "      <td>120.483333</td>\n",
       "    </tr>\n",
       "    <tr>\n",
       "      <th>1188</th>\n",
       "      <td>2017-01-11 13:48:07</td>\n",
       "      <td>2017-01-11 13:58:07</td>\n",
       "      <td>121.075</td>\n",
       "    </tr>\n",
       "    <tr>\n",
       "      <th>1189</th>\n",
       "      <td>2017-01-11 13:49:07</td>\n",
       "      <td>2017-01-11 13:59:06</td>\n",
       "      <td>121.6</td>\n",
       "    </tr>\n",
       "  </tbody>\n",
       "</table>\n",
       "<p>1190 rows × 3 columns</p>\n",
       "</div>"
      ],
      "text/plain": [
       "              start_time            end_time        mean\n",
       "0    2017-01-10 18:00:06 2017-01-10 18:10:06   99.521008\n",
       "1    2017-01-10 18:01:06 2017-01-10 18:11:06   99.487395\n",
       "2    2017-01-10 18:02:11 2017-01-10 18:12:06   99.344538\n",
       "3    2017-01-10 18:03:06 2017-01-10 18:13:06   99.383333\n",
       "4    2017-01-10 18:04:06 2017-01-10 18:14:06        99.4\n",
       "...                  ...                 ...         ...\n",
       "1185 2017-01-11 13:45:07 2017-01-11 13:55:07  119.408333\n",
       "1186 2017-01-11 13:46:07 2017-01-11 13:56:06  119.916667\n",
       "1187 2017-01-11 13:47:07 2017-01-11 13:57:06  120.483333\n",
       "1188 2017-01-11 13:48:07 2017-01-11 13:58:07     121.075\n",
       "1189 2017-01-11 13:49:07 2017-01-11 13:59:06       121.6\n",
       "\n",
       "[1190 rows x 3 columns]"
      ]
     },
     "execution_count": 150,
     "metadata": {},
     "output_type": "execute_result"
    }
   ],
   "source": [
    "PC_0192_mean"
   ]
  },
  {
   "cell_type": "code",
   "execution_count": 151,
   "metadata": {},
   "outputs": [],
   "source": [
    "# PC_0192_mean.plot(x='start_time', y='mean')\n",
    "\n",
    "# TypeError: no numeric data to plot"
   ]
  },
  {
   "cell_type": "code",
   "execution_count": 152,
   "metadata": {},
   "outputs": [
    {
     "data": {
      "text/plain": [
       "121.98305084745763"
      ]
     },
     "execution_count": 152,
     "metadata": {},
     "output_type": "execute_result"
    }
   ],
   "source": [
    "index_1 = PC_0192_extubated.record_date_time.searchsorted(PC_0192_extubated['record_date_time'].iloc[0] + timedelta(minutes=k))\n",
    "index_2 = PC_0192_extubated.record_date_time.searchsorted(PC_0192_extubated['record_date_time'].iloc[0] + timedelta(minutes=10+k))\n",
    "\n",
    "mean = PC_0192_extubated['num_value'][index_1:index_2].mean()\n",
    "mean"
   ]
  },
  {
   "cell_type": "code",
   "execution_count": 153,
   "metadata": {},
   "outputs": [
    {
     "data": {
      "text/plain": [
       "start_time    datetime64[ns]\n",
       "end_time      datetime64[ns]\n",
       "mean                  object\n",
       "dtype: object"
      ]
     },
     "execution_count": 153,
     "metadata": {},
     "output_type": "execute_result"
    }
   ],
   "source": [
    "PC_0192_mean.dtypes"
   ]
  },
  {
   "cell_type": "code",
   "execution_count": 154,
   "metadata": {},
   "outputs": [],
   "source": [
    "# PC_0192_mean['mean'] = pd.to_numeric(PC_0192_mean['mean'])\n",
    "\n",
    "# TypeError: Invalid object type at position 910"
   ]
  },
  {
   "cell_type": "code",
   "execution_count": 155,
   "metadata": {},
   "outputs": [
    {
     "data": {
      "text/plain": [
       "start_time    2017-01-11 09:24:32\n",
       "end_time      2017-01-11 09:24:32\n",
       "mean                          NaT\n",
       "Name: 910, dtype: object"
      ]
     },
     "execution_count": 155,
     "metadata": {},
     "output_type": "execute_result"
    }
   ],
   "source": [
    "PC_0192_mean.iloc[910]"
   ]
  },
  {
   "cell_type": "code",
   "execution_count": 156,
   "metadata": {},
   "outputs": [],
   "source": [
    "# PC_0192_mean = PC_0192_mean.drop(910)"
   ]
  },
  {
   "cell_type": "code",
   "execution_count": 157,
   "metadata": {},
   "outputs": [],
   "source": [
    "# PC_0192_mean.plot(x='start_time', y='mean')"
   ]
  },
  {
   "cell_type": "code",
   "execution_count": 158,
   "metadata": {},
   "outputs": [],
   "source": [
    "# PC_0192_mean['mean'] = pd.to_numeric(PC_0192_mean['mean'])\n",
    "\n",
    "# TypeError: Invalid object type at position 910"
   ]
  },
  {
   "cell_type": "code",
   "execution_count": 159,
   "metadata": {},
   "outputs": [],
   "source": [
    "# systematically removing NaT rows\n",
    "\n",
    "for i, row in enumerate(PC_0192_mean['mean']):\n",
    "    if pd.isnull(row):\n",
    "        PC_0192_mean = PC_0192_mean.drop(i)"
   ]
  },
  {
   "cell_type": "code",
   "execution_count": 160,
   "metadata": {},
   "outputs": [],
   "source": [
    "# PC_0192_mean['mean'] = pd.to_numeric(PC_0192_mean['mean'])\n",
    "\n",
    "# TypeError: Invalid object type at position 910"
   ]
  },
  {
   "cell_type": "code",
   "execution_count": 161,
   "metadata": {},
   "outputs": [
    {
     "name": "stdout",
     "output_type": "stream",
     "text": [
      "The correlation coefficient of the mean is 1.0 which is strong positive.\n"
     ]
    },
    {
     "data": {
      "image/png": "[encoded data removed]",
      "text/plain": [
       "<Figure size 432x288 with 1 Axes>"
      ]
     },
     "metadata": {
      "needs_background": "light"
     },
     "output_type": "display_data"
    }
   ],
   "source": [
    "PC_0192_mean['mean'] = pd.to_numeric(PC_0192_mean['mean'])\n",
    "\n",
    "PC_0192_mean.plot(x='start_time', y='mean')\n",
    "\n",
    "print(f\"The correlation coefficient of the mean is {PC_0192_mean.corr()['mean'][0]} which is strong positive.\")"
   ]
  },
  {
   "cell_type": "markdown",
   "metadata": {},
   "source": [
    "don't really understand significance of increasing mean COME BACK TO THIS!"
   ]
  },
  {
   "cell_type": "markdown",
   "metadata": {},
   "source": [
    "### Rolling variance (intervals of 10 mins):"
   ]
  },
  {
   "cell_type": "code",
   "execution_count": 162,
   "metadata": {},
   "outputs": [],
   "source": [
    "k = 0\n",
    "\n",
    "PC_0192_var_10_min = pd.DataFrame(columns=['start_time','end_time','variance'])\n",
    "\n",
    "while (PC_0192_extubated['record_date_time'].iloc[0] + timedelta(minutes=10+k)) < PC_0192_extubated['record_date_time'].iloc[-1]:\n",
    "\n",
    "    index_1 = PC_0192_extubated.record_date_time.searchsorted(PC_0192_extubated['record_date_time'].iloc[0] + timedelta(minutes=k))\n",
    "    index_2 = PC_0192_extubated.record_date_time.searchsorted(PC_0192_extubated['record_date_time'].iloc[0] + timedelta(minutes=10+k))\n",
    "\n",
    "    var = PC_0192_extubated['num_value'][index_1:index_2].var(axis=0)\n",
    "\n",
    "    PC_0192_var_10_min = PC_0192_var_10_min.append({'start_time': PC_0192_extubated['record_date_time'].iloc[index_1], 'end_time':PC_0192_extubated['record_date_time'].iloc[index_2], 'variance':var}, ignore_index=True)\n",
    "    k += 1\n"
   ]
  },
  {
   "cell_type": "code",
   "execution_count": 163,
   "metadata": {},
   "outputs": [
    {
     "data": {
      "text/html": [
       "<div>\n",
       "<style scoped>\n",
       "    .dataframe tbody tr th:only-of-type {\n",
       "        vertical-align: middle;\n",
       "    }\n",
       "\n",
       "    .dataframe tbody tr th {\n",
       "        vertical-align: top;\n",
       "    }\n",
       "\n",
       "    .dataframe thead th {\n",
       "        text-align: right;\n",
       "    }\n",
       "</style>\n",
       "<table border=\"1\" class=\"dataframe\">\n",
       "  <thead>\n",
       "    <tr style=\"text-align: right;\">\n",
       "      <th></th>\n",
       "      <th>start_time</th>\n",
       "      <th>end_time</th>\n",
       "      <th>variance</th>\n",
       "    </tr>\n",
       "  </thead>\n",
       "  <tbody>\n",
       "    <tr>\n",
       "      <th>0</th>\n",
       "      <td>2017-01-10 18:00:06</td>\n",
       "      <td>2017-01-10 18:10:06</td>\n",
       "      <td>1.963538</td>\n",
       "    </tr>\n",
       "    <tr>\n",
       "      <th>1</th>\n",
       "      <td>2017-01-10 18:01:06</td>\n",
       "      <td>2017-01-10 18:11:06</td>\n",
       "      <td>1.963823</td>\n",
       "    </tr>\n",
       "    <tr>\n",
       "      <th>2</th>\n",
       "      <td>2017-01-10 18:02:11</td>\n",
       "      <td>2017-01-10 18:12:06</td>\n",
       "      <td>1.685372</td>\n",
       "    </tr>\n",
       "    <tr>\n",
       "      <th>3</th>\n",
       "      <td>2017-01-10 18:03:06</td>\n",
       "      <td>2017-01-10 18:13:06</td>\n",
       "      <td>1.683754</td>\n",
       "    </tr>\n",
       "    <tr>\n",
       "      <th>4</th>\n",
       "      <td>2017-01-10 18:04:06</td>\n",
       "      <td>2017-01-10 18:14:06</td>\n",
       "      <td>1.939496</td>\n",
       "    </tr>\n",
       "    <tr>\n",
       "      <th>...</th>\n",
       "      <td>...</td>\n",
       "      <td>...</td>\n",
       "      <td>...</td>\n",
       "    </tr>\n",
       "    <tr>\n",
       "      <th>1185</th>\n",
       "      <td>2017-01-11 13:45:07</td>\n",
       "      <td>2017-01-11 13:55:07</td>\n",
       "      <td>9.520938</td>\n",
       "    </tr>\n",
       "    <tr>\n",
       "      <th>1186</th>\n",
       "      <td>2017-01-11 13:46:07</td>\n",
       "      <td>2017-01-11 13:56:06</td>\n",
       "      <td>10.497199</td>\n",
       "    </tr>\n",
       "    <tr>\n",
       "      <th>1187</th>\n",
       "      <td>2017-01-11 13:47:07</td>\n",
       "      <td>2017-01-11 13:57:06</td>\n",
       "      <td>10.503922</td>\n",
       "    </tr>\n",
       "    <tr>\n",
       "      <th>1188</th>\n",
       "      <td>2017-01-11 13:48:07</td>\n",
       "      <td>2017-01-11 13:58:07</td>\n",
       "      <td>8.053151</td>\n",
       "    </tr>\n",
       "    <tr>\n",
       "      <th>1189</th>\n",
       "      <td>2017-01-11 13:49:07</td>\n",
       "      <td>2017-01-11 13:59:06</td>\n",
       "      <td>5.351261</td>\n",
       "    </tr>\n",
       "  </tbody>\n",
       "</table>\n",
       "<p>1190 rows × 3 columns</p>\n",
       "</div>"
      ],
      "text/plain": [
       "              start_time            end_time   variance\n",
       "0    2017-01-10 18:00:06 2017-01-10 18:10:06   1.963538\n",
       "1    2017-01-10 18:01:06 2017-01-10 18:11:06   1.963823\n",
       "2    2017-01-10 18:02:11 2017-01-10 18:12:06   1.685372\n",
       "3    2017-01-10 18:03:06 2017-01-10 18:13:06   1.683754\n",
       "4    2017-01-10 18:04:06 2017-01-10 18:14:06   1.939496\n",
       "...                  ...                 ...        ...\n",
       "1185 2017-01-11 13:45:07 2017-01-11 13:55:07   9.520938\n",
       "1186 2017-01-11 13:46:07 2017-01-11 13:56:06  10.497199\n",
       "1187 2017-01-11 13:47:07 2017-01-11 13:57:06  10.503922\n",
       "1188 2017-01-11 13:48:07 2017-01-11 13:58:07   8.053151\n",
       "1189 2017-01-11 13:49:07 2017-01-11 13:59:06   5.351261\n",
       "\n",
       "[1190 rows x 3 columns]"
      ]
     },
     "execution_count": 163,
     "metadata": {},
     "output_type": "execute_result"
    }
   ],
   "source": [
    "PC_0192_var_10_min"
   ]
  },
  {
   "cell_type": "code",
   "execution_count": 164,
   "metadata": {},
   "outputs": [],
   "source": [
    "# systematically removing NaT rows\n",
    "\n",
    "for i, row in enumerate(PC_0192_var_10_min['variance']):\n",
    "    if pd.isnull(row):\n",
    "        PC_0192_var_10_min = PC_0192_var_10_min.drop(i)"
   ]
  },
  {
   "cell_type": "code",
   "execution_count": 165,
   "metadata": {},
   "outputs": [
    {
     "data": {
      "text/plain": [
       "<AxesSubplot:xlabel='start_time'>"
      ]
     },
     "execution_count": 165,
     "metadata": {},
     "output_type": "execute_result"
    },
    {
     "data": {
      "image/png": "[encoded data removed]",
      "text/plain": [
       "<Figure size 432x288 with 1 Axes>"
      ]
     },
     "metadata": {
      "needs_background": "light"
     },
     "output_type": "display_data"
    }
   ],
   "source": [
    "PC_0192_var_10_min['variance'] = pd.to_numeric(PC_0192_var_10_min['variance'])\n",
    "\n",
    "PC_0192_var_10_min.plot(x='start_time', y='variance')"
   ]
  },
  {
   "cell_type": "markdown",
   "metadata": {},
   "source": [
    "rough notes:\n",
    "\n",
    "- patches of low variance throughout\n",
    "- but we generally see higher variances closer to the critical point (lower resilience)\n",
    "- this suggests the critical slowing down begins quite early on, in this case variance gets relatively high about 11 hours before critical point"
   ]
  },
  {
   "cell_type": "markdown",
   "metadata": {},
   "source": [
    "### Rolling variance (intervals of 1 hour):"
   ]
  },
  {
   "cell_type": "code",
   "execution_count": 166,
   "metadata": {},
   "outputs": [],
   "source": [
    "k = 0\n",
    "\n",
    "PC_0192_var_1_hour = pd.DataFrame(columns=['start_time','end_time','variance'])\n",
    "\n",
    "while (PC_0192_extubated['record_date_time'].iloc[0] + timedelta(minutes=60+k)) < PC_0192_extubated['record_date_time'].iloc[-1]:\n",
    "\n",
    "    index_1 = PC_0192_extubated.record_date_time.searchsorted(PC_0192_extubated['record_date_time'].iloc[0] + timedelta(minutes=k))\n",
    "    index_2 = PC_0192_extubated.record_date_time.searchsorted(PC_0192_extubated['record_date_time'].iloc[0] + timedelta(minutes=60+k))\n",
    "\n",
    "    var = PC_0192_extubated['num_value'][index_1:index_2].var(axis=0)\n",
    "\n",
    "    PC_0192_var_1_hour = PC_0192_var_1_hour.append({'start_time': PC_0192_extubated['record_date_time'].iloc[index_1], 'end_time':PC_0192_extubated['record_date_time'].iloc[index_2], 'variance':var}, ignore_index=True)\n",
    "    k += 1"
   ]
  },
  {
   "cell_type": "code",
   "execution_count": 167,
   "metadata": {},
   "outputs": [
    {
     "data": {
      "text/html": [
       "<div>\n",
       "<style scoped>\n",
       "    .dataframe tbody tr th:only-of-type {\n",
       "        vertical-align: middle;\n",
       "    }\n",
       "\n",
       "    .dataframe tbody tr th {\n",
       "        vertical-align: top;\n",
       "    }\n",
       "\n",
       "    .dataframe thead th {\n",
       "        text-align: right;\n",
       "    }\n",
       "</style>\n",
       "<table border=\"1\" class=\"dataframe\">\n",
       "  <thead>\n",
       "    <tr style=\"text-align: right;\">\n",
       "      <th></th>\n",
       "      <th>start_time</th>\n",
       "      <th>end_time</th>\n",
       "      <th>variance</th>\n",
       "    </tr>\n",
       "  </thead>\n",
       "  <tbody>\n",
       "    <tr>\n",
       "      <th>0</th>\n",
       "      <td>2017-01-10 18:00:06</td>\n",
       "      <td>2017-01-10 19:00:10</td>\n",
       "      <td>2.794764</td>\n",
       "    </tr>\n",
       "    <tr>\n",
       "      <th>1</th>\n",
       "      <td>2017-01-10 18:01:06</td>\n",
       "      <td>2017-01-10 19:01:10</td>\n",
       "      <td>2.812136</td>\n",
       "    </tr>\n",
       "    <tr>\n",
       "      <th>2</th>\n",
       "      <td>2017-01-10 18:02:11</td>\n",
       "      <td>2017-01-10 19:02:10</td>\n",
       "      <td>2.756124</td>\n",
       "    </tr>\n",
       "    <tr>\n",
       "      <th>3</th>\n",
       "      <td>2017-01-10 18:03:06</td>\n",
       "      <td>2017-01-10 19:03:10</td>\n",
       "      <td>2.717823</td>\n",
       "    </tr>\n",
       "    <tr>\n",
       "      <th>4</th>\n",
       "      <td>2017-01-10 18:04:06</td>\n",
       "      <td>2017-01-10 19:04:10</td>\n",
       "      <td>2.724989</td>\n",
       "    </tr>\n",
       "    <tr>\n",
       "      <th>...</th>\n",
       "      <td>...</td>\n",
       "      <td>...</td>\n",
       "      <td>...</td>\n",
       "    </tr>\n",
       "    <tr>\n",
       "      <th>1135</th>\n",
       "      <td>2017-01-11 12:55:08</td>\n",
       "      <td>2017-01-11 13:55:07</td>\n",
       "      <td>43.828784</td>\n",
       "    </tr>\n",
       "    <tr>\n",
       "      <th>1136</th>\n",
       "      <td>2017-01-11 12:56:08</td>\n",
       "      <td>2017-01-11 13:56:06</td>\n",
       "      <td>45.213919</td>\n",
       "    </tr>\n",
       "    <tr>\n",
       "      <th>1137</th>\n",
       "      <td>2017-01-11 12:57:08</td>\n",
       "      <td>2017-01-11 13:57:06</td>\n",
       "      <td>46.413874</td>\n",
       "    </tr>\n",
       "    <tr>\n",
       "      <th>1138</th>\n",
       "      <td>2017-01-11 12:58:08</td>\n",
       "      <td>2017-01-11 13:58:07</td>\n",
       "      <td>46.996571</td>\n",
       "    </tr>\n",
       "    <tr>\n",
       "      <th>1139</th>\n",
       "      <td>2017-01-11 12:59:08</td>\n",
       "      <td>2017-01-11 13:59:06</td>\n",
       "      <td>47.412645</td>\n",
       "    </tr>\n",
       "  </tbody>\n",
       "</table>\n",
       "<p>1140 rows × 3 columns</p>\n",
       "</div>"
      ],
      "text/plain": [
       "              start_time            end_time   variance\n",
       "0    2017-01-10 18:00:06 2017-01-10 19:00:10   2.794764\n",
       "1    2017-01-10 18:01:06 2017-01-10 19:01:10   2.812136\n",
       "2    2017-01-10 18:02:11 2017-01-10 19:02:10   2.756124\n",
       "3    2017-01-10 18:03:06 2017-01-10 19:03:10   2.717823\n",
       "4    2017-01-10 18:04:06 2017-01-10 19:04:10   2.724989\n",
       "...                  ...                 ...        ...\n",
       "1135 2017-01-11 12:55:08 2017-01-11 13:55:07  43.828784\n",
       "1136 2017-01-11 12:56:08 2017-01-11 13:56:06  45.213919\n",
       "1137 2017-01-11 12:57:08 2017-01-11 13:57:06  46.413874\n",
       "1138 2017-01-11 12:58:08 2017-01-11 13:58:07  46.996571\n",
       "1139 2017-01-11 12:59:08 2017-01-11 13:59:06  47.412645\n",
       "\n",
       "[1140 rows x 3 columns]"
      ]
     },
     "execution_count": 167,
     "metadata": {},
     "output_type": "execute_result"
    }
   ],
   "source": [
    "PC_0192_var_1_hour"
   ]
  },
  {
   "cell_type": "code",
   "execution_count": 168,
   "metadata": {},
   "outputs": [],
   "source": [
    "# systematically removing NaT rows\n",
    "\n",
    "for i, row in enumerate(PC_0192_var_1_hour['variance']):\n",
    "    if pd.isnull(row):\n",
    "        PC_0192_var_1_hour = PC_0192_var_1_hour.drop(i)"
   ]
  },
  {
   "cell_type": "code",
   "execution_count": 169,
   "metadata": {},
   "outputs": [
    {
     "name": "stdout",
     "output_type": "stream",
     "text": [
      "The correlation coefficient of the variance is 1.0 which is strong positive.\n"
     ]
    },
    {
     "data": {
      "image/png": "[encoded data removed]",
      "text/plain": [
       "<Figure size 432x288 with 1 Axes>"
      ]
     },
     "metadata": {
      "needs_background": "light"
     },
     "output_type": "display_data"
    }
   ],
   "source": [
    "PC_0192_var_1_hour['variance'] = pd.to_numeric(PC_0192_var_1_hour['variance'])\n",
    "\n",
    "PC_0192_var_1_hour.plot(x='start_time', y='variance')\n",
    "\n",
    "print(f\"The correlation coefficient of the variance is {PC_0192_var_1_hour.corr()['variance'][0]} which is strong positive.\")"
   ]
  },
  {
   "cell_type": "markdown",
   "metadata": {},
   "source": [
    "### Autocorrelation:"
   ]
  },
  {
   "cell_type": "code",
   "execution_count": 170,
   "metadata": {},
   "outputs": [],
   "source": [
    "idx1 = PC_0192_extubated.record_date_time.searchsorted(PC_0192_extubated['record_date_time'].iloc[0])\n",
    "idx2 = PC_0192_extubated.record_date_time.searchsorted(PC_0192_extubated['record_date_time'].iloc[0] + timedelta(minutes=20))\n",
    "\n",
    "idx3 = PC_0192_extubated.record_date_time.searchsorted(PC_0192_extubated['record_date_time'].iloc[-1] - timedelta(minutes=20))\n",
    "idx4 = PC_0192_extubated.record_date_time.searchsorted(PC_0192_extubated['record_date_time'].iloc[-1])\n",
    "\n",
    "\n",
    "# pd.plotting.lag_plot(PC_0192_extubated['num_value'][idx1:idx2], lag=1)\n",
    "# print(f\"Autocorrelation for first 20 mins: {PC_0192_extubated['num_value'][idx1:idx2].autocorr()}\")"
   ]
  },
  {
   "cell_type": "code",
   "execution_count": 171,
   "metadata": {},
   "outputs": [
    {
     "name": "stdout",
     "output_type": "stream",
     "text": [
      "Autocorrelation for first 20 mins: 0.44161008980408856\n"
     ]
    },
    {
     "data": {
      "image/png": "[encoded data removed]",
      "text/plain": [
       "<Figure size 432x288 with 1 Axes>"
      ]
     },
     "metadata": {
      "needs_background": "light"
     },
     "output_type": "display_data"
    }
   ],
   "source": [
    "plt.plot(PC_0192_extubated['num_value'][idx1:idx2], PC_0192_extubated['num_value'][idx1+1:idx2+1], '.')\n",
    "\n",
    "theta = np.polyfit(PC_0192_extubated['num_value'][idx1:idx2], PC_0192_extubated['num_value'][idx1+1:idx2+1], 1)\n",
    "line_of_best_fit1 = theta[1] + theta[0] * np.linspace(85,115,400)\n",
    "\n",
    "plt.plot(np.linspace(85,115,400), line_of_best_fit1)\n",
    "\n",
    "plt.xlim(xmin=85,xmax=115)\n",
    "plt.ylim(ymin=85,ymax=115)\n",
    "\n",
    "print(f\"Autocorrelation for first 20 mins: {PC_0192_extubated['num_value'][idx1:idx2].autocorr()}\")"
   ]
  },
  {
   "cell_type": "code",
   "execution_count": 172,
   "metadata": {},
   "outputs": [
    {
     "name": "stdout",
     "output_type": "stream",
     "text": [
      "Autocorrelation for final 20 mins: 0.9700082051791865\n"
     ]
    },
    {
     "data": {
      "image/png": "[encoded data removed]",
      "text/plain": [
       "<Figure size 432x288 with 1 Axes>"
      ]
     },
     "metadata": {
      "needs_background": "light"
     },
     "output_type": "display_data"
    }
   ],
   "source": [
    "plt.plot(PC_0192_extubated['num_value'][idx3-1:idx4-1], PC_0192_extubated['num_value'][idx3:idx4], '.')\n",
    "\n",
    "theta = np.polyfit(PC_0192_extubated['num_value'][idx3-1:idx4-1], PC_0192_extubated['num_value'][idx3:idx4], 1)\n",
    "line_of_best_fit2 = theta[1] + theta[0] * np.linspace(100,130,400)\n",
    "\n",
    "plt.plot(np.linspace(100,130,400), line_of_best_fit2)\n",
    "\n",
    "plt.xlim(xmin=100,xmax=130)\n",
    "plt.ylim(ymin=100,ymax=130)\n",
    "\n",
    "print(f\"Autocorrelation for final 20 mins: {PC_0192_extubated['num_value'][idx3:idx4].autocorr()}\")"
   ]
  },
  {
   "cell_type": "markdown",
   "metadata": {},
   "source": [
    "results as expected!\n",
    "(10 mins looked like too few data points so used the initial and finial 20 mins to data points)"
   ]
  },
  {
   "cell_type": "code",
   "execution_count": 173,
   "metadata": {},
   "outputs": [],
   "source": [
    "k = 0\n",
    "\n",
    "PC_0192_ac_1_hour = pd.DataFrame(columns=['start_time','end_time','autocorrelation'])\n",
    "\n",
    "while (PC_0192_extubated['record_date_time'].iloc[0] + timedelta(minutes=60+k)) < PC_0192_extubated['record_date_time'].iloc[-1]:\n",
    "\n",
    "    index_1 = PC_0192_extubated.record_date_time.searchsorted(PC_0192_extubated['record_date_time'].iloc[0] + timedelta(minutes=k))\n",
    "    index_2 = PC_0192_extubated.record_date_time.searchsorted(PC_0192_extubated['record_date_time'].iloc[0] + timedelta(minutes=60+k))\n",
    "\n",
    "    ac = PC_0192_extubated['num_value'][index_1:index_2].autocorr()\n",
    "\n",
    "    PC_0192_ac_1_hour = PC_0192_ac_1_hour.append({'start_time': PC_0192_extubated['record_date_time'].iloc[index_1], 'end_time':PC_0192_extubated['record_date_time'].iloc[index_2], 'autocorrelation':ac}, ignore_index=True)\n",
    "    k += 1"
   ]
  },
  {
   "cell_type": "code",
   "execution_count": 174,
   "metadata": {},
   "outputs": [],
   "source": [
    "# systematically removing NaT rows\n",
    "\n",
    "for i, row in enumerate(PC_0192_ac_1_hour['autocorrelation']):\n",
    "    if pd.isnull(row):\n",
    "        PC_0192_ac_1_hour = PC_0192_ac_1_hour.drop(i)"
   ]
  },
  {
   "cell_type": "code",
   "execution_count": 175,
   "metadata": {},
   "outputs": [
    {
     "name": "stdout",
     "output_type": "stream",
     "text": [
      "The correlation coefficient of the autocorrelation is 1.0 which is strong positive.\n"
     ]
    },
    {
     "data": {
      "image/png": "[encoded data removed]",
      "text/plain": [
       "<Figure size 432x288 with 1 Axes>"
      ]
     },
     "metadata": {
      "needs_background": "light"
     },
     "output_type": "display_data"
    }
   ],
   "source": [
    "PC_0192_ac_1_hour['autocorrelation'] = pd.to_numeric(PC_0192_ac_1_hour['autocorrelation'])\n",
    "\n",
    "PC_0192_ac_1_hour.plot(x='start_time', y='autocorrelation')\n",
    "\n",
    "# theta = np.polyfit(enumerate(PC_0192_ac_1_hour['autocorrelation'])[0], enumerate(PC_0192_ac_1_hour['autocorrelation'])[1], 1)\n",
    "# line_of_best_fit2 = theta[1] + theta[0] * np.linspace(1,100,400)\n",
    "\n",
    "# plt.plot(np.linspace(1,100,400), line_of_best_fit2)\n",
    "\n",
    "print(f\"The correlation coefficient of the autocorrelation is {PC_0192_ac_1_hour.corr()['autocorrelation'][0]} which is strong positive.\")"
   ]
  },
  {
   "cell_type": "markdown",
   "metadata": {},
   "source": [
    "general upwards trend?"
   ]
  },
  {
   "cell_type": "markdown",
   "metadata": {},
   "source": []
  },
  {
   "cell_type": "markdown",
   "metadata": {},
   "source": [
    "### Making this into a function:"
   ]
  },
  {
   "cell_type": "code",
   "execution_count": null,
   "metadata": {},
   "outputs": [],
   "source": []
  },
  {
   "cell_type": "code",
   "execution_count": 205,
   "metadata": {},
   "outputs": [],
   "source": [
    "def rolling_variance(data, time):\n",
    "    \"\"\"\n",
    "    Inputs:\n",
    "    data - data frame of numerical values during the time the patient was exhastubated with columns 'record_date_time' and 'variance'\n",
    "    time - size of window in minutes\n",
    "    \"\"\"\n",
    "    k = 0\n",
    "\n",
    "    df = pd.DataFrame(columns=['start_time','end_time','variance'])\n",
    "\n",
    "    while (data['record_date_time'].iloc[0] + timedelta(minutes=time+k)) < data['record_date_time'].iloc[-1]:\n",
    "\n",
    "        index_1 = data.record_date_time.searchsorted(data['record_date_time'].iloc[0] + timedelta(minutes=k))\n",
    "        index_2 = data.record_date_time.searchsorted(data['record_date_time'].iloc[0] + timedelta(minutes=time+k))\n",
    "\n",
    "        var = data['num_value'][index_1:index_2].var()\n",
    "\n",
    "        df = df.append({'start_time': data['record_date_time'].iloc[index_1], 'end_time':data['record_date_time'].iloc[index_2], 'variance':var}, ignore_index=True)\n",
    "        k += 1\n",
    "\n",
    "    for i, row in enumerate(df['variance']):\n",
    "        if pd.isnull(row):\n",
    "            df = df.drop(i)\n",
    "    \n",
    "    df['variance'] = pd.to_numeric(df['variance'])\n",
    "\n",
    "    df.plot(x='start_time', y='variance', figsize=(10,8))\n",
    "\n",
    "    print(f\"The kendall tau correlation coefficient of the variance is {stats.kendalltau(df['start_time'], df['variance'])[0]}, and the p-value is {stats.kendalltau(df['start_time'], df['variance'])[1]}.\")\n",
    "    print(f\"The Hamid and Rao correction relusts in a p-value of {mk.hamed_rao_modification_test(df['variance'])[2]}\")\n",
    "    print(f\"Output of Hamid Rao correction: {mk.hamed_rao_modification_test(df['variance'])}\")\n",
    "\n",
    "        "
   ]
  },
  {
   "cell_type": "code",
   "execution_count": 207,
   "metadata": {},
   "outputs": [
    {
     "name": "stdout",
     "output_type": "stream",
     "text": [
      "The kendall tau correlation coefficient of the variance is 0.3668529583600319, and the p-value is 7.463802251160827e-73.\n",
      "The Hamid and Rao correction relusts in a p-value of 5.7088586030040744e-05\n",
      "Output of Hamid Rao correction: Modified_Mann_Kendall_Test_Hamed_Rao_Approach(trend='increasing', h=True, p=5.7088586030040744e-05, z=4.024532599255757, Tau=0.3670047712216387, s=213839.0, var_s=2823181949.082718, slope=0.011269249843240403, intercept=3.1459322236633405)\n"
     ]
    },
    {
     "data": {
      "image/png": "[encoded data removed]",
      "text/plain": [
       "<Figure size 720x576 with 1 Axes>"
      ]
     },
     "metadata": {
      "needs_background": "light"
     },
     "output_type": "display_data"
    }
   ],
   "source": [
    "rolling_variance(PC_0192_extubated, 120)"
   ]
  },
  {
   "cell_type": "code",
   "execution_count": 203,
   "metadata": {},
   "outputs": [],
   "source": [
    "def rolling_autocorrelation(data, time):\n",
    "    \"\"\"\n",
    "    Inputs:\n",
    "    data - data frame of numerical values during the time the patient was exhastubated with columns 'record_date_time' and 'autocorrelation'\n",
    "    time - size of window in minutes\n",
    "    \"\"\"\n",
    "    k = 0\n",
    "\n",
    "    df = pd.DataFrame(columns=['start_time','end_time','autocorrelation'])\n",
    "\n",
    "    while (data['record_date_time'].iloc[0] + timedelta(minutes=time+k)) < data['record_date_time'].iloc[-1]:\n",
    "\n",
    "        index_1 = data.record_date_time.searchsorted(data['record_date_time'].iloc[0] + timedelta(minutes=k))\n",
    "        index_2 = data.record_date_time.searchsorted(data['record_date_time'].iloc[0] + timedelta(minutes=time+k))\n",
    "\n",
    "        ac = data['num_value'][index_1:index_2].autocorr()\n",
    "\n",
    "        df = df.append({'start_time': data['record_date_time'].iloc[index_1], 'end_time':data['record_date_time'].iloc[index_2], 'autocorrelation':ac}, ignore_index=True)\n",
    "        k += 1\n",
    "\n",
    "    for i, row in enumerate(df['autocorrelation']):\n",
    "        if pd.isnull(row):\n",
    "            df = df.drop(i)\n",
    "    \n",
    "    df['autocorrelation'] = pd.to_numeric(df['autocorrelation'])\n",
    "\n",
    "    df.plot(x='start_time', y='autocorrelation', figsize=(10,8))\n",
    "\n",
    "    print(f\"The kendall tau correlation coefficient of the autocorrelation is {stats.kendalltau(df['start_time'], df['autocorrelation'])[0]}, and the p-value is {stats.kendalltau(df['start_time'], df['autocorrelation'])[1]}.\")\n",
    "    print(f\"The Hamid and Rao correction relusts in a p-value of {mk.hamed_rao_modification_test(df['autocorrelation'])[2]}\")\n",
    "    print(f\"Output of Hamid Rao correction: {mk.hamed_rao_modification_test(df['autocorrelation'])}\")\n"
   ]
  },
  {
   "cell_type": "code",
   "execution_count": 204,
   "metadata": {},
   "outputs": [
    {
     "name": "stdout",
     "output_type": "stream",
     "text": [
      "The kendall tau correlation coefficient of the autocorrelation is 0.21267076385072556, and the p-value is 7.32862006184388e-28.\n",
      "The Hamid and Rao correction relusts in a p-value of 3.304614621368884e-05\n",
      "Output of Hamid Rao correction: Modified_Mann_Kendall_Test_Hamed_Rao_Approach(trend='increasing', h=True, p=3.304614621368884e-05, z=4.151390432335772, Tau=0.2127657739250442, s=148002.0, var_s=1270990017.1961114, slope=0.00018670288557059108, intercept=0.5400732647958442)\n"
     ]
    },
    {
     "data": {
      "image/png": "[encoded data removed]",
      "text/plain": [
       "<Figure size 720x576 with 1 Axes>"
      ]
     },
     "metadata": {
      "needs_background": "light"
     },
     "output_type": "display_data"
    }
   ],
   "source": [
    "rolling_autocorrelation(PC_0192_extubated, 20)"
   ]
  },
  {
   "cell_type": "code",
   "execution_count": 200,
   "metadata": {},
   "outputs": [
    {
     "name": "stdout",
     "output_type": "stream",
     "text": [
      "Modified_Mann_Kendall_Test_Hamed_Rao_Approach(trend='no trend', h=False, p=0.329352332471331, z=-0.9754192626928079, Tau=-0.031043020736614052, s=-2006.0, var_s=4225188.589188674, slope=-0.00012867787501135886, intercept=0.5403450508149594)\n"
     ]
    }
   ],
   "source": [
    "result = mk.hamed_rao_modification_test(data)\n",
    "print(result)"
   ]
  },
  {
   "cell_type": "code",
   "execution_count": null,
   "metadata": {},
   "outputs": [],
   "source": []
  }
 ],
 "metadata": {
  "interpreter": {
   "hash": "908e60022c9d4979c292b8b79e14df3460174af298c7d4fb047b137ea57e6458"
  },
  "kernelspec": {
   "display_name": "Python 3.8.11 ('base')",
   "language": "python",
   "name": "python3"
  },
  "language_info": {
   "codemirror_mode": {
    "name": "ipython",
    "version": 3
   },
   "file_extension": ".py",
   "mimetype": "text/x-python",
   "name": "python",
   "nbconvert_exporter": "python",
   "pygments_lexer": "ipython3",
   "version": "3.8.11"
  },
  "orig_nbformat": 4,
  "vscode": {
   "interpreter": {
    "hash": "908e60022c9d4979c292b8b79e14df3460174af298c7d4fb047b137ea57e6458"
   }
  }
 },
 "nbformat": 4,
 "nbformat_minor": 2
}
