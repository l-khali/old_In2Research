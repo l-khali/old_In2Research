{
 "cells": [
  {
   "cell_type": "code",
   "execution_count": 136,
   "metadata": {},
   "outputs": [],
   "source": [
    "import numpy as np\n",
    "import pandas as pd\n",
    "from pandas import Series\n",
    "import matplotlib.pyplot as plt\n",
    "from datetime import datetime, timedelta\n"
   ]
  },
  {
   "cell_type": "code",
   "execution_count": 137,
   "metadata": {},
   "outputs": [
    {
     "data": {
      "text/html": [
       "<div>\n",
       "<style scoped>\n",
       "    .dataframe tbody tr th:only-of-type {\n",
       "        vertical-align: middle;\n",
       "    }\n",
       "\n",
       "    .dataframe tbody tr th {\n",
       "        vertical-align: top;\n",
       "    }\n",
       "\n",
       "    .dataframe thead th {\n",
       "        text-align: right;\n",
       "    }\n",
       "</style>\n",
       "<table border=\"1\" class=\"dataframe\">\n",
       "  <thead>\n",
       "    <tr style=\"text-align: right;\">\n",
       "      <th></th>\n",
       "      <th>Project ID</th>\n",
       "      <th>birth_deid_date</th>\n",
       "      <th>death_deid_date</th>\n",
       "      <th>sex</th>\n",
       "      <th>icu_visit</th>\n",
       "      <th>icu_start_deid_dttm</th>\n",
       "      <th>icu_end_deid_dttm</th>\n",
       "      <th>failed_extubation_flag</th>\n",
       "      <th>failed_extubation_deid_date</th>\n",
       "      <th>intubation_flag</th>\n",
       "      <th>extubation_flag</th>\n",
       "      <th>extubation_deid_date</th>\n",
       "      <th>extubation_score</th>\n",
       "      <th>re_intubation_deid_date</th>\n",
       "      <th>icu_ward</th>\n",
       "    </tr>\n",
       "  </thead>\n",
       "  <tbody>\n",
       "    <tr>\n",
       "      <th>0</th>\n",
       "      <td>PC0192</td>\n",
       "      <td>22/06/2004</td>\n",
       "      <td>NaN</td>\n",
       "      <td>Male</td>\n",
       "      <td>1</td>\n",
       "      <td>22/12/2016 11:53</td>\n",
       "      <td>18/02/2017 17:13</td>\n",
       "      <td>1</td>\n",
       "      <td>10/01/2017 18:00</td>\n",
       "      <td>1</td>\n",
       "      <td>1</td>\n",
       "      <td>28/12/2016 18:00</td>\n",
       "      <td>5</td>\n",
       "      <td>11/01/2017 14:00</td>\n",
       "      <td>FLAMI</td>\n",
       "    </tr>\n",
       "  </tbody>\n",
       "</table>\n",
       "</div>"
      ],
      "text/plain": [
       "  Project ID birth_deid_date  death_deid_date   sex  icu_visit  \\\n",
       "0     PC0192      22/06/2004              NaN  Male          1   \n",
       "\n",
       "  icu_start_deid_dttm icu_end_deid_dttm  failed_extubation_flag  \\\n",
       "0    22/12/2016 11:53  18/02/2017 17:13                       1   \n",
       "\n",
       "  failed_extubation_deid_date  intubation_flag  extubation_flag  \\\n",
       "0            10/01/2017 18:00                1                1   \n",
       "\n",
       "  extubation_deid_date  extubation_score re_intubation_deid_date icu_ward  \n",
       "0     28/12/2016 18:00                 5        11/01/2017 14:00    FLAMI  "
      ]
     },
     "execution_count": 137,
     "metadata": {},
     "output_type": "execute_result"
    }
   ],
   "source": [
    "# importing data\n",
    "# numpy array with columns of date/time and num_value\n",
    "\n",
    "PC_0192_details = pd.read_csv(\"Details_PC-0192.csv\", sep=',')\n",
    "# dtype='str', comments=\"#\", delimiter=\"\\t\", unpack=False)\n",
    "PC_0192_details"
   ]
  },
  {
   "cell_type": "code",
   "execution_count": 138,
   "metadata": {},
   "outputs": [],
   "source": [
    "# changing required fields to correct datetime data type to avoid string issues\n",
    "\n",
    "PC_0192_details['failed_extubation_deid_date'] = pd.to_datetime(PC_0192_details['failed_extubation_deid_date'], format='%d/%m/%Y %H:%M')\n",
    "PC_0192_details['re_intubation_deid_date'] = pd.to_datetime(PC_0192_details['re_intubation_deid_date'], format='%d/%m/%Y %H:%M')"
   ]
  },
  {
   "cell_type": "code",
   "execution_count": 139,
   "metadata": {},
   "outputs": [
    {
     "data": {
      "text/html": [
       "<div>\n",
       "<style scoped>\n",
       "    .dataframe tbody tr th:only-of-type {\n",
       "        vertical-align: middle;\n",
       "    }\n",
       "\n",
       "    .dataframe tbody tr th {\n",
       "        vertical-align: top;\n",
       "    }\n",
       "\n",
       "    .dataframe thead th {\n",
       "        text-align: right;\n",
       "    }\n",
       "</style>\n",
       "<table border=\"1\" class=\"dataframe\">\n",
       "  <thead>\n",
       "    <tr style=\"text-align: right;\">\n",
       "      <th></th>\n",
       "      <th>Project ID</th>\n",
       "      <th>birth_deid_date</th>\n",
       "      <th>death_deid_date</th>\n",
       "      <th>sex</th>\n",
       "      <th>icu_visit</th>\n",
       "      <th>icu_start_deid_dttm</th>\n",
       "      <th>icu_end_deid_dttm</th>\n",
       "      <th>failed_extubation_flag</th>\n",
       "      <th>failed_extubation_deid_date</th>\n",
       "      <th>intubation_flag</th>\n",
       "      <th>extubation_flag</th>\n",
       "      <th>extubation_deid_date</th>\n",
       "      <th>extubation_score</th>\n",
       "      <th>re_intubation_deid_date</th>\n",
       "      <th>icu_ward</th>\n",
       "    </tr>\n",
       "  </thead>\n",
       "  <tbody>\n",
       "    <tr>\n",
       "      <th>0</th>\n",
       "      <td>PC0192</td>\n",
       "      <td>22/06/2004</td>\n",
       "      <td>NaN</td>\n",
       "      <td>Male</td>\n",
       "      <td>1</td>\n",
       "      <td>22/12/2016 11:53</td>\n",
       "      <td>18/02/2017 17:13</td>\n",
       "      <td>1</td>\n",
       "      <td>2017-01-10 18:00:00</td>\n",
       "      <td>1</td>\n",
       "      <td>1</td>\n",
       "      <td>28/12/2016 18:00</td>\n",
       "      <td>5</td>\n",
       "      <td>2017-01-11 14:00:00</td>\n",
       "      <td>FLAMI</td>\n",
       "    </tr>\n",
       "  </tbody>\n",
       "</table>\n",
       "</div>"
      ],
      "text/plain": [
       "  Project ID birth_deid_date  death_deid_date   sex  icu_visit  \\\n",
       "0     PC0192      22/06/2004              NaN  Male          1   \n",
       "\n",
       "  icu_start_deid_dttm icu_end_deid_dttm  failed_extubation_flag  \\\n",
       "0    22/12/2016 11:53  18/02/2017 17:13                       1   \n",
       "\n",
       "  failed_extubation_deid_date  intubation_flag  extubation_flag  \\\n",
       "0         2017-01-10 18:00:00                1                1   \n",
       "\n",
       "  extubation_deid_date  extubation_score re_intubation_deid_date icu_ward  \n",
       "0     28/12/2016 18:00                 5     2017-01-11 14:00:00    FLAMI  "
      ]
     },
     "execution_count": 139,
     "metadata": {},
     "output_type": "execute_result"
    }
   ],
   "source": [
    "PC_0192_details"
   ]
  },
  {
   "cell_type": "code",
   "execution_count": 140,
   "metadata": {},
   "outputs": [
    {
     "name": "stdout",
     "output_type": "stream",
     "text": [
      "2017-01-10 18:00:00 2017-01-11 14:00:00\n"
     ]
    }
   ],
   "source": [
    "failed_extubation = PC_0192_details.iloc[0,8]\n",
    "re_intubation = PC_0192_details.iloc[0,13]\n",
    "\n",
    "print(failed_extubation, re_intubation)"
   ]
  },
  {
   "cell_type": "code",
   "execution_count": 141,
   "metadata": {},
   "outputs": [
    {
     "data": {
      "text/html": [
       "<div>\n",
       "<style scoped>\n",
       "    .dataframe tbody tr th:only-of-type {\n",
       "        vertical-align: middle;\n",
       "    }\n",
       "\n",
       "    .dataframe tbody tr th {\n",
       "        vertical-align: top;\n",
       "    }\n",
       "\n",
       "    .dataframe thead th {\n",
       "        text-align: right;\n",
       "    }\n",
       "</style>\n",
       "<table border=\"1\" class=\"dataframe\">\n",
       "  <thead>\n",
       "    <tr style=\"text-align: right;\">\n",
       "      <th></th>\n",
       "      <th>monitor</th>\n",
       "      <th>record_date_time</th>\n",
       "      <th>num_value</th>\n",
       "    </tr>\n",
       "  </thead>\n",
       "  <tbody>\n",
       "    <tr>\n",
       "      <th>0</th>\n",
       "      <td>HR</td>\n",
       "      <td>2016-12-22 12:09:21</td>\n",
       "      <td>98</td>\n",
       "    </tr>\n",
       "    <tr>\n",
       "      <th>1</th>\n",
       "      <td>HR</td>\n",
       "      <td>2016-12-22 12:09:26</td>\n",
       "      <td>98</td>\n",
       "    </tr>\n",
       "    <tr>\n",
       "      <th>2</th>\n",
       "      <td>HR</td>\n",
       "      <td>2016-12-22 12:09:31</td>\n",
       "      <td>98</td>\n",
       "    </tr>\n",
       "    <tr>\n",
       "      <th>3</th>\n",
       "      <td>HR</td>\n",
       "      <td>2016-12-22 12:09:36</td>\n",
       "      <td>96</td>\n",
       "    </tr>\n",
       "    <tr>\n",
       "      <th>4</th>\n",
       "      <td>HR</td>\n",
       "      <td>2016-12-22 12:09:41</td>\n",
       "      <td>97</td>\n",
       "    </tr>\n",
       "    <tr>\n",
       "      <th>...</th>\n",
       "      <td>...</td>\n",
       "      <td>...</td>\n",
       "      <td>...</td>\n",
       "    </tr>\n",
       "    <tr>\n",
       "      <th>942176</th>\n",
       "      <td>HR</td>\n",
       "      <td>2017-02-18 17:08:34</td>\n",
       "      <td>96</td>\n",
       "    </tr>\n",
       "    <tr>\n",
       "      <th>942177</th>\n",
       "      <td>HR</td>\n",
       "      <td>2017-02-18 17:08:39</td>\n",
       "      <td>96</td>\n",
       "    </tr>\n",
       "    <tr>\n",
       "      <th>942178</th>\n",
       "      <td>HR</td>\n",
       "      <td>2017-02-18 17:08:44</td>\n",
       "      <td>95</td>\n",
       "    </tr>\n",
       "    <tr>\n",
       "      <th>942179</th>\n",
       "      <td>HR</td>\n",
       "      <td>2017-02-18 17:08:49</td>\n",
       "      <td>96</td>\n",
       "    </tr>\n",
       "    <tr>\n",
       "      <th>942180</th>\n",
       "      <td>HR</td>\n",
       "      <td>2017-02-18 17:08:54</td>\n",
       "      <td>96</td>\n",
       "    </tr>\n",
       "  </tbody>\n",
       "</table>\n",
       "<p>942181 rows × 3 columns</p>\n",
       "</div>"
      ],
      "text/plain": [
       "       monitor     record_date_time  num_value\n",
       "0           HR  2016-12-22 12:09:21         98\n",
       "1           HR  2016-12-22 12:09:26         98\n",
       "2           HR  2016-12-22 12:09:31         98\n",
       "3           HR  2016-12-22 12:09:36         96\n",
       "4           HR  2016-12-22 12:09:41         97\n",
       "...        ...                  ...        ...\n",
       "942176      HR  2017-02-18 17:08:34         96\n",
       "942177      HR  2017-02-18 17:08:39         96\n",
       "942178      HR  2017-02-18 17:08:44         95\n",
       "942179      HR  2017-02-18 17:08:49         96\n",
       "942180      HR  2017-02-18 17:08:54         96\n",
       "\n",
       "[942181 rows x 3 columns]"
      ]
     },
     "execution_count": 141,
     "metadata": {},
     "output_type": "execute_result"
    }
   ],
   "source": [
    "# creating df for the time series data\n",
    "\n",
    "PC_0192_data = pd.read_csv(\"PC0192_1_HR.csv\", sep=',')\n",
    "PC_0192_data"
   ]
  },
  {
   "cell_type": "code",
   "execution_count": 142,
   "metadata": {},
   "outputs": [
    {
     "data": {
      "text/html": [
       "<div>\n",
       "<style scoped>\n",
       "    .dataframe tbody tr th:only-of-type {\n",
       "        vertical-align: middle;\n",
       "    }\n",
       "\n",
       "    .dataframe tbody tr th {\n",
       "        vertical-align: top;\n",
       "    }\n",
       "\n",
       "    .dataframe thead th {\n",
       "        text-align: right;\n",
       "    }\n",
       "</style>\n",
       "<table border=\"1\" class=\"dataframe\">\n",
       "  <thead>\n",
       "    <tr style=\"text-align: right;\">\n",
       "      <th></th>\n",
       "      <th>monitor</th>\n",
       "      <th>record_date_time</th>\n",
       "      <th>num_value</th>\n",
       "    </tr>\n",
       "  </thead>\n",
       "  <tbody>\n",
       "    <tr>\n",
       "      <th>0</th>\n",
       "      <td>HR</td>\n",
       "      <td>2016-12-22 12:09:21</td>\n",
       "      <td>98</td>\n",
       "    </tr>\n",
       "    <tr>\n",
       "      <th>1</th>\n",
       "      <td>HR</td>\n",
       "      <td>2016-12-22 12:09:26</td>\n",
       "      <td>98</td>\n",
       "    </tr>\n",
       "    <tr>\n",
       "      <th>2</th>\n",
       "      <td>HR</td>\n",
       "      <td>2016-12-22 12:09:31</td>\n",
       "      <td>98</td>\n",
       "    </tr>\n",
       "    <tr>\n",
       "      <th>3</th>\n",
       "      <td>HR</td>\n",
       "      <td>2016-12-22 12:09:36</td>\n",
       "      <td>96</td>\n",
       "    </tr>\n",
       "    <tr>\n",
       "      <th>4</th>\n",
       "      <td>HR</td>\n",
       "      <td>2016-12-22 12:09:41</td>\n",
       "      <td>97</td>\n",
       "    </tr>\n",
       "    <tr>\n",
       "      <th>...</th>\n",
       "      <td>...</td>\n",
       "      <td>...</td>\n",
       "      <td>...</td>\n",
       "    </tr>\n",
       "    <tr>\n",
       "      <th>942176</th>\n",
       "      <td>HR</td>\n",
       "      <td>2017-02-18 17:08:34</td>\n",
       "      <td>96</td>\n",
       "    </tr>\n",
       "    <tr>\n",
       "      <th>942177</th>\n",
       "      <td>HR</td>\n",
       "      <td>2017-02-18 17:08:39</td>\n",
       "      <td>96</td>\n",
       "    </tr>\n",
       "    <tr>\n",
       "      <th>942178</th>\n",
       "      <td>HR</td>\n",
       "      <td>2017-02-18 17:08:44</td>\n",
       "      <td>95</td>\n",
       "    </tr>\n",
       "    <tr>\n",
       "      <th>942179</th>\n",
       "      <td>HR</td>\n",
       "      <td>2017-02-18 17:08:49</td>\n",
       "      <td>96</td>\n",
       "    </tr>\n",
       "    <tr>\n",
       "      <th>942180</th>\n",
       "      <td>HR</td>\n",
       "      <td>2017-02-18 17:08:54</td>\n",
       "      <td>96</td>\n",
       "    </tr>\n",
       "  </tbody>\n",
       "</table>\n",
       "<p>942181 rows × 3 columns</p>\n",
       "</div>"
      ],
      "text/plain": [
       "       monitor    record_date_time  num_value\n",
       "0           HR 2016-12-22 12:09:21         98\n",
       "1           HR 2016-12-22 12:09:26         98\n",
       "2           HR 2016-12-22 12:09:31         98\n",
       "3           HR 2016-12-22 12:09:36         96\n",
       "4           HR 2016-12-22 12:09:41         97\n",
       "...        ...                 ...        ...\n",
       "942176      HR 2017-02-18 17:08:34         96\n",
       "942177      HR 2017-02-18 17:08:39         96\n",
       "942178      HR 2017-02-18 17:08:44         95\n",
       "942179      HR 2017-02-18 17:08:49         96\n",
       "942180      HR 2017-02-18 17:08:54         96\n",
       "\n",
       "[942181 rows x 3 columns]"
      ]
     },
     "execution_count": 142,
     "metadata": {},
     "output_type": "execute_result"
    }
   ],
   "source": [
    "# making sure 'record_date_time' is of the correct type\n",
    "\n",
    "# PC_0192_data['record_date_time'] = PC_0192_data['record_date_time'].dt.strftime('%d/%m/%Y %H:%M:%S')\n",
    "PC_0192_data['record_date_time'] = pd.to_datetime(PC_0192_data['record_date_time'], format='%Y-%m-%d %H:%M:%S')\n",
    "PC_0192_data"
   ]
  },
  {
   "cell_type": "code",
   "execution_count": 143,
   "metadata": {},
   "outputs": [],
   "source": [
    "# 'failed_extubation' and 're_intubation' are formatted differently to 'PC_0192_data'\n",
    "# change manually for now, BUT COME BACK TO THIS AND CHANGE PROPERLY\n",
    "\n",
    "# failed_extubation_2 = '2017-01-10 18:00:00'\n",
    "# re_intubation_2 = '2017-01-11 14:00:00'\n",
    "\n",
    "# fixed this"
   ]
  },
  {
   "cell_type": "code",
   "execution_count": 144,
   "metadata": {},
   "outputs": [],
   "source": [
    "# PC_0192_data.timestamp.searchsorted(failed_extubation)"
   ]
  },
  {
   "cell_type": "code",
   "execution_count": 145,
   "metadata": {},
   "outputs": [],
   "source": [
    "# dt='2022-02-07T23:18:06.08349'\n",
    "# PC_0192_data. timestamp.searchsorted(dt)"
   ]
  },
  {
   "cell_type": "code",
   "execution_count": 146,
   "metadata": {},
   "outputs": [],
   "source": [
    "# np.where(PC_0192_data[\"record_date_time\"] == test)[0]"
   ]
  },
  {
   "cell_type": "code",
   "execution_count": 148,
   "metadata": {},
   "outputs": [],
   "source": [
    "# failed_extubation = pd.to_datetime(failed_extubation)\n",
    "# s = PC_0192_data['record_date_time'].loc[PC_0192_data['record_date_time'].index.unique()[PC_0192_data['record_date_time'].index.unique().get_loc(failed_extubation, method='nearest')]]"
   ]
  },
  {
   "cell_type": "code",
   "execution_count": 149,
   "metadata": {},
   "outputs": [
    {
     "name": "stdout",
     "output_type": "stream",
     "text": [
      "320515 334633\n"
     ]
    }
   ],
   "source": [
    "# finding indexes at which failed_extubation and re_intubation would need to be inserted to maintain order\n",
    "\n",
    "failed_extubation_index = PC_0192_data.record_date_time.searchsorted(failed_extubation)\n",
    "re_intubation_index = PC_0192_data.record_date_time.searchsorted(re_intubation)\n",
    "\n",
    "print(failed_extubation_index, re_intubation_index)"
   ]
  },
  {
   "cell_type": "code",
   "execution_count": 150,
   "metadata": {},
   "outputs": [
    {
     "data": {
      "text/html": [
       "<div>\n",
       "<style scoped>\n",
       "    .dataframe tbody tr th:only-of-type {\n",
       "        vertical-align: middle;\n",
       "    }\n",
       "\n",
       "    .dataframe tbody tr th {\n",
       "        vertical-align: top;\n",
       "    }\n",
       "\n",
       "    .dataframe thead th {\n",
       "        text-align: right;\n",
       "    }\n",
       "</style>\n",
       "<table border=\"1\" class=\"dataframe\">\n",
       "  <thead>\n",
       "    <tr style=\"text-align: right;\">\n",
       "      <th></th>\n",
       "      <th>monitor</th>\n",
       "      <th>record_date_time</th>\n",
       "      <th>num_value</th>\n",
       "    </tr>\n",
       "  </thead>\n",
       "  <tbody>\n",
       "    <tr>\n",
       "      <th>320516</th>\n",
       "      <td>HR</td>\n",
       "      <td>2017-01-10 18:00:06</td>\n",
       "      <td>100</td>\n",
       "    </tr>\n",
       "    <tr>\n",
       "      <th>320517</th>\n",
       "      <td>HR</td>\n",
       "      <td>2017-01-10 18:00:11</td>\n",
       "      <td>100</td>\n",
       "    </tr>\n",
       "    <tr>\n",
       "      <th>320518</th>\n",
       "      <td>HR</td>\n",
       "      <td>2017-01-10 18:00:16</td>\n",
       "      <td>100</td>\n",
       "    </tr>\n",
       "    <tr>\n",
       "      <th>320519</th>\n",
       "      <td>HR</td>\n",
       "      <td>2017-01-10 18:00:21</td>\n",
       "      <td>100</td>\n",
       "    </tr>\n",
       "    <tr>\n",
       "      <th>320520</th>\n",
       "      <td>HR</td>\n",
       "      <td>2017-01-10 18:00:26</td>\n",
       "      <td>99</td>\n",
       "    </tr>\n",
       "    <tr>\n",
       "      <th>...</th>\n",
       "      <td>...</td>\n",
       "      <td>...</td>\n",
       "      <td>...</td>\n",
       "    </tr>\n",
       "    <tr>\n",
       "      <th>334627</th>\n",
       "      <td>HR</td>\n",
       "      <td>2017-01-11 13:59:32</td>\n",
       "      <td>121</td>\n",
       "    </tr>\n",
       "    <tr>\n",
       "      <th>334628</th>\n",
       "      <td>HR</td>\n",
       "      <td>2017-01-11 13:59:36</td>\n",
       "      <td>121</td>\n",
       "    </tr>\n",
       "    <tr>\n",
       "      <th>334629</th>\n",
       "      <td>HR</td>\n",
       "      <td>2017-01-11 13:59:42</td>\n",
       "      <td>121</td>\n",
       "    </tr>\n",
       "    <tr>\n",
       "      <th>334630</th>\n",
       "      <td>HR</td>\n",
       "      <td>2017-01-11 13:59:46</td>\n",
       "      <td>121</td>\n",
       "    </tr>\n",
       "    <tr>\n",
       "      <th>334631</th>\n",
       "      <td>HR</td>\n",
       "      <td>2017-01-11 13:59:52</td>\n",
       "      <td>121</td>\n",
       "    </tr>\n",
       "  </tbody>\n",
       "</table>\n",
       "<p>14116 rows × 3 columns</p>\n",
       "</div>"
      ],
      "text/plain": [
       "       monitor    record_date_time  num_value\n",
       "320516      HR 2017-01-10 18:00:06        100\n",
       "320517      HR 2017-01-10 18:00:11        100\n",
       "320518      HR 2017-01-10 18:00:16        100\n",
       "320519      HR 2017-01-10 18:00:21        100\n",
       "320520      HR 2017-01-10 18:00:26         99\n",
       "...        ...                 ...        ...\n",
       "334627      HR 2017-01-11 13:59:32        121\n",
       "334628      HR 2017-01-11 13:59:36        121\n",
       "334629      HR 2017-01-11 13:59:42        121\n",
       "334630      HR 2017-01-11 13:59:46        121\n",
       "334631      HR 2017-01-11 13:59:52        121\n",
       "\n",
       "[14116 rows x 3 columns]"
      ]
     },
     "execution_count": 150,
     "metadata": {},
     "output_type": "execute_result"
    }
   ],
   "source": [
    "# lifting data for the time peried where patient was extubated\n",
    "\n",
    "PC_0192_extubated = PC_0192_data.iloc[failed_extubation_index+1:re_intubation_index-1, :]\n",
    "PC_0192_extubated"
   ]
  },
  {
   "cell_type": "code",
   "execution_count": 151,
   "metadata": {},
   "outputs": [
    {
     "data": {
      "text/plain": [
       "<AxesSubplot:xlabel='record_date_time'>"
      ]
     },
     "execution_count": 151,
     "metadata": {},
     "output_type": "execute_result"
    },
    {
     "data": {
      "image/png": "[encoded data removed]",
      "text/plain": [
       "<Figure size 1080x792 with 1 Axes>"
      ]
     },
     "metadata": {
      "needs_background": "light"
     },
     "output_type": "display_data"
    }
   ],
   "source": [
    "PC_0192_extubated.plot('record_date_time', 'num_value', figsize=(15, 11))"
   ]
  },
  {
   "cell_type": "code",
   "execution_count": 152,
   "metadata": {},
   "outputs": [
    {
     "data": {
      "text/plain": [
       "Timestamp('2017-01-11 13:59:52')"
      ]
     },
     "execution_count": 152,
     "metadata": {},
     "output_type": "execute_result"
    }
   ],
   "source": [
    "# use timedelta to add a period of time to a timestamp:\n",
    "\n",
    "PC_0192_extubated['record_date_time'].iloc[0] + timedelta(minutes=10)\n",
    "PC_0192_extubated['record_date_time'].iloc[-1]"
   ]
  },
  {
   "cell_type": "markdown",
   "metadata": {},
   "source": [
    "### Rolling mean:"
   ]
  },
  {
   "cell_type": "code",
   "execution_count": 153,
   "metadata": {},
   "outputs": [],
   "source": [
    "# following has incorrect timestamps\n",
    "\n",
    "# k = 0\n",
    "\n",
    "# PC_0192_mean = pd.DataFrame(columns=['start_time','end_time','mean'])\n",
    "\n",
    "# while (PC_0192_extubated['record_date_time'].iloc[0] + timedelta(minutes=10+k)) < PC_0192_extubated['record_date_time'].iloc[-1]:\n",
    "\n",
    "#     index_1 = PC_0192_extubated.record_date_time.searchsorted(PC_0192_extubated['record_date_time'].iloc[0] + timedelta(minutes=k))\n",
    "#     index_2 = PC_0192_extubated.record_date_time.searchsorted(PC_0192_extubated['record_date_time'].iloc[0] + timedelta(minutes=10+k))\n",
    "\n",
    "#     mean = PC_0192_extubated['num_value'][index_1:index_2].mean(axis=0)\n",
    "\n",
    "#     PC_0192_mean = PC_0192_mean.append({'start_time': PC_0192_extubated['record_date_time'].iloc[0] + timedelta(minutes=k),\n",
    "#     'end_time':PC_0192_extubated['record_date_time'].iloc[0] + timedelta(minutes=10+k), 'mean':mean}, ignore_index=True)\n",
    "#     k += 1\n"
   ]
  },
  {
   "cell_type": "code",
   "execution_count": 191,
   "metadata": {},
   "outputs": [],
   "source": [
    "k = 0\n",
    "\n",
    "PC_0192_mean = pd.DataFrame(columns=['start_time','end_time','mean'])\n",
    "\n",
    "while (PC_0192_extubated['record_date_time'].iloc[0] + timedelta(minutes=10+k)) < PC_0192_extubated['record_date_time'].iloc[-1]:\n",
    "\n",
    "    index_1 = PC_0192_extubated.record_date_time.searchsorted(PC_0192_extubated['record_date_time'].iloc[0] + timedelta(minutes=k))\n",
    "    index_2 = PC_0192_extubated.record_date_time.searchsorted(PC_0192_extubated['record_date_time'].iloc[0] + timedelta(minutes=10+k))\n",
    "\n",
    "    mean = PC_0192_extubated['num_value'][index_1:index_2].mean(axis=0)\n",
    "\n",
    "    PC_0192_mean = PC_0192_mean.append({'start_time': PC_0192_extubated['record_date_time'].iloc[index_1], 'end_time':PC_0192_extubated['record_date_time'].iloc[index_2], 'mean':mean}, ignore_index=True)\n",
    "    k += 1"
   ]
  },
  {
   "cell_type": "code",
   "execution_count": 192,
   "metadata": {},
   "outputs": [
    {
     "data": {
      "text/plain": [
       "Timestamp('2017-01-11 13:49:07')"
      ]
     },
     "execution_count": 192,
     "metadata": {},
     "output_type": "execute_result"
    }
   ],
   "source": [
    "PC_0192_extubated['record_date_time'].iloc[index_1]"
   ]
  },
  {
   "cell_type": "code",
   "execution_count": 193,
   "metadata": {},
   "outputs": [
    {
     "data": {
      "text/html": [
       "<div>\n",
       "<style scoped>\n",
       "    .dataframe tbody tr th:only-of-type {\n",
       "        vertical-align: middle;\n",
       "    }\n",
       "\n",
       "    .dataframe tbody tr th {\n",
       "        vertical-align: top;\n",
       "    }\n",
       "\n",
       "    .dataframe thead th {\n",
       "        text-align: right;\n",
       "    }\n",
       "</style>\n",
       "<table border=\"1\" class=\"dataframe\">\n",
       "  <thead>\n",
       "    <tr style=\"text-align: right;\">\n",
       "      <th></th>\n",
       "      <th>start_time</th>\n",
       "      <th>end_time</th>\n",
       "      <th>mean</th>\n",
       "    </tr>\n",
       "  </thead>\n",
       "  <tbody>\n",
       "    <tr>\n",
       "      <th>0</th>\n",
       "      <td>2017-01-10 18:00:06</td>\n",
       "      <td>2017-01-10 18:10:06</td>\n",
       "      <td>99.521008</td>\n",
       "    </tr>\n",
       "    <tr>\n",
       "      <th>1</th>\n",
       "      <td>2017-01-10 18:01:06</td>\n",
       "      <td>2017-01-10 18:11:06</td>\n",
       "      <td>99.487395</td>\n",
       "    </tr>\n",
       "    <tr>\n",
       "      <th>2</th>\n",
       "      <td>2017-01-10 18:02:11</td>\n",
       "      <td>2017-01-10 18:12:06</td>\n",
       "      <td>99.344538</td>\n",
       "    </tr>\n",
       "    <tr>\n",
       "      <th>3</th>\n",
       "      <td>2017-01-10 18:03:06</td>\n",
       "      <td>2017-01-10 18:13:06</td>\n",
       "      <td>99.383333</td>\n",
       "    </tr>\n",
       "    <tr>\n",
       "      <th>4</th>\n",
       "      <td>2017-01-10 18:04:06</td>\n",
       "      <td>2017-01-10 18:14:06</td>\n",
       "      <td>99.4</td>\n",
       "    </tr>\n",
       "    <tr>\n",
       "      <th>...</th>\n",
       "      <td>...</td>\n",
       "      <td>...</td>\n",
       "      <td>...</td>\n",
       "    </tr>\n",
       "    <tr>\n",
       "      <th>1185</th>\n",
       "      <td>2017-01-11 13:45:07</td>\n",
       "      <td>2017-01-11 13:55:07</td>\n",
       "      <td>119.408333</td>\n",
       "    </tr>\n",
       "    <tr>\n",
       "      <th>1186</th>\n",
       "      <td>2017-01-11 13:46:07</td>\n",
       "      <td>2017-01-11 13:56:06</td>\n",
       "      <td>119.916667</td>\n",
       "    </tr>\n",
       "    <tr>\n",
       "      <th>1187</th>\n",
       "      <td>2017-01-11 13:47:07</td>\n",
       "      <td>2017-01-11 13:57:06</td>\n",
       "      <td>120.483333</td>\n",
       "    </tr>\n",
       "    <tr>\n",
       "      <th>1188</th>\n",
       "      <td>2017-01-11 13:48:07</td>\n",
       "      <td>2017-01-11 13:58:07</td>\n",
       "      <td>121.075</td>\n",
       "    </tr>\n",
       "    <tr>\n",
       "      <th>1189</th>\n",
       "      <td>2017-01-11 13:49:07</td>\n",
       "      <td>2017-01-11 13:59:06</td>\n",
       "      <td>121.6</td>\n",
       "    </tr>\n",
       "  </tbody>\n",
       "</table>\n",
       "<p>1190 rows × 3 columns</p>\n",
       "</div>"
      ],
      "text/plain": [
       "              start_time            end_time        mean\n",
       "0    2017-01-10 18:00:06 2017-01-10 18:10:06   99.521008\n",
       "1    2017-01-10 18:01:06 2017-01-10 18:11:06   99.487395\n",
       "2    2017-01-10 18:02:11 2017-01-10 18:12:06   99.344538\n",
       "3    2017-01-10 18:03:06 2017-01-10 18:13:06   99.383333\n",
       "4    2017-01-10 18:04:06 2017-01-10 18:14:06        99.4\n",
       "...                  ...                 ...         ...\n",
       "1185 2017-01-11 13:45:07 2017-01-11 13:55:07  119.408333\n",
       "1186 2017-01-11 13:46:07 2017-01-11 13:56:06  119.916667\n",
       "1187 2017-01-11 13:47:07 2017-01-11 13:57:06  120.483333\n",
       "1188 2017-01-11 13:48:07 2017-01-11 13:58:07     121.075\n",
       "1189 2017-01-11 13:49:07 2017-01-11 13:59:06       121.6\n",
       "\n",
       "[1190 rows x 3 columns]"
      ]
     },
     "execution_count": 193,
     "metadata": {},
     "output_type": "execute_result"
    }
   ],
   "source": [
    "PC_0192_mean"
   ]
  },
  {
   "cell_type": "code",
   "execution_count": 194,
   "metadata": {},
   "outputs": [],
   "source": [
    "# PC_0192_mean.plot(x='start_time', y='mean')\n",
    "\n",
    "# TypeError: no numeric data to plot"
   ]
  },
  {
   "cell_type": "code",
   "execution_count": 195,
   "metadata": {},
   "outputs": [
    {
     "data": {
      "text/plain": [
       "121.98305084745763"
      ]
     },
     "execution_count": 195,
     "metadata": {},
     "output_type": "execute_result"
    }
   ],
   "source": [
    "index_1 = PC_0192_extubated.record_date_time.searchsorted(PC_0192_extubated['record_date_time'].iloc[0] + timedelta(minutes=k))\n",
    "index_2 = PC_0192_extubated.record_date_time.searchsorted(PC_0192_extubated['record_date_time'].iloc[0] + timedelta(minutes=10+k))\n",
    "\n",
    "mean = PC_0192_extubated['num_value'][index_1:index_2].mean()\n",
    "mean"
   ]
  },
  {
   "cell_type": "code",
   "execution_count": 196,
   "metadata": {},
   "outputs": [
    {
     "data": {
      "text/plain": [
       "start_time    datetime64[ns]\n",
       "end_time      datetime64[ns]\n",
       "mean                  object\n",
       "dtype: object"
      ]
     },
     "execution_count": 196,
     "metadata": {},
     "output_type": "execute_result"
    }
   ],
   "source": [
    "PC_0192_mean.dtypes"
   ]
  },
  {
   "cell_type": "code",
   "execution_count": 197,
   "metadata": {},
   "outputs": [],
   "source": [
    "# PC_0192_mean['mean'] = pd.to_numeric(PC_0192_mean['mean'])\n",
    "\n",
    "# TypeError: Invalid object type at position 910"
   ]
  },
  {
   "cell_type": "code",
   "execution_count": 198,
   "metadata": {},
   "outputs": [
    {
     "data": {
      "text/plain": [
       "start_time    2017-01-11 09:24:32\n",
       "end_time      2017-01-11 09:24:32\n",
       "mean                          NaT\n",
       "Name: 910, dtype: object"
      ]
     },
     "execution_count": 198,
     "metadata": {},
     "output_type": "execute_result"
    }
   ],
   "source": [
    "PC_0192_mean.iloc[910]"
   ]
  },
  {
   "cell_type": "code",
   "execution_count": 199,
   "metadata": {},
   "outputs": [],
   "source": [
    "# PC_0192_mean = PC_0192_mean.drop(910)"
   ]
  },
  {
   "cell_type": "code",
   "execution_count": 200,
   "metadata": {},
   "outputs": [],
   "source": [
    "# PC_0192_mean.plot(x='start_time', y='mean')"
   ]
  },
  {
   "cell_type": "code",
   "execution_count": 201,
   "metadata": {},
   "outputs": [],
   "source": [
    "# PC_0192_mean['mean'] = pd.to_numeric(PC_0192_mean['mean'])\n",
    "\n",
    "# TypeError: Invalid object type at position 910"
   ]
  },
  {
   "cell_type": "code",
   "execution_count": 202,
   "metadata": {},
   "outputs": [],
   "source": [
    "# systematically removing NaT rows\n",
    "\n",
    "for i, row in enumerate(PC_0192_mean['mean']):\n",
    "    if pd.isnull(row):\n",
    "        PC_0192_mean = PC_0192_mean.drop(i)"
   ]
  },
  {
   "cell_type": "code",
   "execution_count": 203,
   "metadata": {},
   "outputs": [],
   "source": [
    "# PC_0192_mean['mean'] = pd.to_numeric(PC_0192_mean['mean'])\n",
    "\n",
    "# TypeError: Invalid object type at position 910"
   ]
  },
  {
   "cell_type": "code",
   "execution_count": 204,
   "metadata": {},
   "outputs": [
    {
     "data": {
      "text/plain": [
       "<AxesSubplot:xlabel='start_time'>"
      ]
     },
     "execution_count": 204,
     "metadata": {},
     "output_type": "execute_result"
    },
    {
     "data": {
      "image/png": "[encoded data removed]",
      "text/plain": [
       "<Figure size 432x288 with 1 Axes>"
      ]
     },
     "metadata": {
      "needs_background": "light"
     },
     "output_type": "display_data"
    }
   ],
   "source": [
    "PC_0192_mean['mean'] = pd.to_numeric(PC_0192_mean['mean'])\n",
    "\n",
    "PC_0192_mean.plot(x='start_time', y='mean')"
   ]
  },
  {
   "cell_type": "markdown",
   "metadata": {},
   "source": [
    "### Rolling variance:"
   ]
  },
  {
   "cell_type": "code",
   "execution_count": 205,
   "metadata": {},
   "outputs": [],
   "source": [
    "k = 0\n",
    "\n",
    "PC_0192_var = pd.DataFrame(columns=['start_time','end_time','variance'])\n",
    "\n",
    "while (PC_0192_extubated['record_date_time'].iloc[0] + timedelta(minutes=10+k)) < PC_0192_extubated['record_date_time'].iloc[-1]:\n",
    "\n",
    "    index_1 = PC_0192_extubated.record_date_time.searchsorted(PC_0192_extubated['record_date_time'].iloc[0] + timedelta(minutes=k))\n",
    "    index_2 = PC_0192_extubated.record_date_time.searchsorted(PC_0192_extubated['record_date_time'].iloc[0] + timedelta(minutes=10+k))\n",
    "\n",
    "    var = PC_0192_extubated['num_value'][index_1:index_2].var(axis=0)\n",
    "\n",
    "    PC_0192_var = PC_0192_var.append({'start_time': PC_0192_extubated['record_date_time'].iloc[index_1], 'end_time':PC_0192_extubated['record_date_time'].iloc[index_2], 'variance':var}, ignore_index=True)\n",
    "    k += 1\n"
   ]
  },
  {
   "cell_type": "code",
   "execution_count": 206,
   "metadata": {},
   "outputs": [
    {
     "data": {
      "text/html": [
       "<div>\n",
       "<style scoped>\n",
       "    .dataframe tbody tr th:only-of-type {\n",
       "        vertical-align: middle;\n",
       "    }\n",
       "\n",
       "    .dataframe tbody tr th {\n",
       "        vertical-align: top;\n",
       "    }\n",
       "\n",
       "    .dataframe thead th {\n",
       "        text-align: right;\n",
       "    }\n",
       "</style>\n",
       "<table border=\"1\" class=\"dataframe\">\n",
       "  <thead>\n",
       "    <tr style=\"text-align: right;\">\n",
       "      <th></th>\n",
       "      <th>start_time</th>\n",
       "      <th>end_time</th>\n",
       "      <th>variance</th>\n",
       "    </tr>\n",
       "  </thead>\n",
       "  <tbody>\n",
       "    <tr>\n",
       "      <th>0</th>\n",
       "      <td>2017-01-10 18:00:06</td>\n",
       "      <td>2017-01-10 18:10:06</td>\n",
       "      <td>1.963538</td>\n",
       "    </tr>\n",
       "    <tr>\n",
       "      <th>1</th>\n",
       "      <td>2017-01-10 18:01:06</td>\n",
       "      <td>2017-01-10 18:11:06</td>\n",
       "      <td>1.963823</td>\n",
       "    </tr>\n",
       "    <tr>\n",
       "      <th>2</th>\n",
       "      <td>2017-01-10 18:02:11</td>\n",
       "      <td>2017-01-10 18:12:06</td>\n",
       "      <td>1.685372</td>\n",
       "    </tr>\n",
       "    <tr>\n",
       "      <th>3</th>\n",
       "      <td>2017-01-10 18:03:06</td>\n",
       "      <td>2017-01-10 18:13:06</td>\n",
       "      <td>1.683754</td>\n",
       "    </tr>\n",
       "    <tr>\n",
       "      <th>4</th>\n",
       "      <td>2017-01-10 18:04:06</td>\n",
       "      <td>2017-01-10 18:14:06</td>\n",
       "      <td>1.939496</td>\n",
       "    </tr>\n",
       "    <tr>\n",
       "      <th>...</th>\n",
       "      <td>...</td>\n",
       "      <td>...</td>\n",
       "      <td>...</td>\n",
       "    </tr>\n",
       "    <tr>\n",
       "      <th>1185</th>\n",
       "      <td>2017-01-11 13:45:07</td>\n",
       "      <td>2017-01-11 13:55:07</td>\n",
       "      <td>9.520938</td>\n",
       "    </tr>\n",
       "    <tr>\n",
       "      <th>1186</th>\n",
       "      <td>2017-01-11 13:46:07</td>\n",
       "      <td>2017-01-11 13:56:06</td>\n",
       "      <td>10.497199</td>\n",
       "    </tr>\n",
       "    <tr>\n",
       "      <th>1187</th>\n",
       "      <td>2017-01-11 13:47:07</td>\n",
       "      <td>2017-01-11 13:57:06</td>\n",
       "      <td>10.503922</td>\n",
       "    </tr>\n",
       "    <tr>\n",
       "      <th>1188</th>\n",
       "      <td>2017-01-11 13:48:07</td>\n",
       "      <td>2017-01-11 13:58:07</td>\n",
       "      <td>8.053151</td>\n",
       "    </tr>\n",
       "    <tr>\n",
       "      <th>1189</th>\n",
       "      <td>2017-01-11 13:49:07</td>\n",
       "      <td>2017-01-11 13:59:06</td>\n",
       "      <td>5.351261</td>\n",
       "    </tr>\n",
       "  </tbody>\n",
       "</table>\n",
       "<p>1190 rows × 3 columns</p>\n",
       "</div>"
      ],
      "text/plain": [
       "              start_time            end_time   variance\n",
       "0    2017-01-10 18:00:06 2017-01-10 18:10:06   1.963538\n",
       "1    2017-01-10 18:01:06 2017-01-10 18:11:06   1.963823\n",
       "2    2017-01-10 18:02:11 2017-01-10 18:12:06   1.685372\n",
       "3    2017-01-10 18:03:06 2017-01-10 18:13:06   1.683754\n",
       "4    2017-01-10 18:04:06 2017-01-10 18:14:06   1.939496\n",
       "...                  ...                 ...        ...\n",
       "1185 2017-01-11 13:45:07 2017-01-11 13:55:07   9.520938\n",
       "1186 2017-01-11 13:46:07 2017-01-11 13:56:06  10.497199\n",
       "1187 2017-01-11 13:47:07 2017-01-11 13:57:06  10.503922\n",
       "1188 2017-01-11 13:48:07 2017-01-11 13:58:07   8.053151\n",
       "1189 2017-01-11 13:49:07 2017-01-11 13:59:06   5.351261\n",
       "\n",
       "[1190 rows x 3 columns]"
      ]
     },
     "execution_count": 206,
     "metadata": {},
     "output_type": "execute_result"
    }
   ],
   "source": [
    "PC_0192_var"
   ]
  },
  {
   "cell_type": "code",
   "execution_count": 207,
   "metadata": {},
   "outputs": [],
   "source": [
    "# systematically removing NaT rows\n",
    "\n",
    "for i, row in enumerate(PC_0192_var['variance']):\n",
    "    if pd.isnull(row):\n",
    "        PC_0192_var = PC_0192_var.drop(i)"
   ]
  },
  {
   "cell_type": "code",
   "execution_count": 209,
   "metadata": {},
   "outputs": [
    {
     "data": {
      "text/plain": [
       "<AxesSubplot:xlabel='start_time'>"
      ]
     },
     "execution_count": 209,
     "metadata": {},
     "output_type": "execute_result"
    },
    {
     "data": {
      "image/png": "[encoded data removed]",
      "text/plain": [
       "<Figure size 432x288 with 1 Axes>"
      ]
     },
     "metadata": {
      "needs_background": "light"
     },
     "output_type": "display_data"
    }
   ],
   "source": [
    "PC_0192_var['variance'] = pd.to_numeric(PC_0192_var['variance'])\n",
    "\n",
    "PC_0192_var.plot(x='start_time', y='variance')"
   ]
  },
  {
   "cell_type": "code",
   "execution_count": null,
   "metadata": {},
   "outputs": [],
   "source": []
  }
 ],
 "metadata": {
  "interpreter": {
   "hash": "908e60022c9d4979c292b8b79e14df3460174af298c7d4fb047b137ea57e6458"
  },
  "kernelspec": {
   "display_name": "Python 3.8.11 ('base')",
   "language": "python",
   "name": "python3"
  },
  "language_info": {
   "codemirror_mode": {
    "name": "ipython",
    "version": 3
   },
   "file_extension": ".py",
   "mimetype": "text/x-python",
   "name": "python",
   "nbconvert_exporter": "python",
   "pygments_lexer": "ipython3",
   "version": "3.8.11"
  },
  "orig_nbformat": 4,
  "vscode": {
   "interpreter": {
    "hash": "908e60022c9d4979c292b8b79e14df3460174af298c7d4fb047b137ea57e6458"
   }
  }
 },
 "nbformat": 4,
 "nbformat_minor": 2
}
