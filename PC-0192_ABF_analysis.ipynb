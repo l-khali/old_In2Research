{
 "cells": [
  {
   "cell_type": "code",
   "execution_count": 1,
   "metadata": {},
   "outputs": [],
   "source": [
    "import numpy as np\n",
    "import pandas as pd\n",
    "from pandas import Series\n",
    "import matplotlib.pyplot as plt\n",
    "from datetime import datetime, timedelta\n",
    "import scipy.stats as stats\n",
    "import scipy.ndimage as ndimage\n",
    "import pymannkendall as mk"
   ]
  },
  {
   "cell_type": "code",
   "execution_count": 2,
   "metadata": {},
   "outputs": [
    {
     "data": {
      "text/html": [
       "<div>\n",
       "<style scoped>\n",
       "    .dataframe tbody tr th:only-of-type {\n",
       "        vertical-align: middle;\n",
       "    }\n",
       "\n",
       "    .dataframe tbody tr th {\n",
       "        vertical-align: top;\n",
       "    }\n",
       "\n",
       "    .dataframe thead th {\n",
       "        text-align: right;\n",
       "    }\n",
       "</style>\n",
       "<table border=\"1\" class=\"dataframe\">\n",
       "  <thead>\n",
       "    <tr style=\"text-align: right;\">\n",
       "      <th></th>\n",
       "      <th>Project ID</th>\n",
       "      <th>birth_deid_date</th>\n",
       "      <th>death_deid_date</th>\n",
       "      <th>sex</th>\n",
       "      <th>icu_visit</th>\n",
       "      <th>icu_start_deid_dttm</th>\n",
       "      <th>icu_end_deid_dttm</th>\n",
       "      <th>failed_extubation_flag</th>\n",
       "      <th>failed_extubation_deid_date</th>\n",
       "      <th>intubation_flag</th>\n",
       "      <th>extubation_flag</th>\n",
       "      <th>extubation_deid_date</th>\n",
       "      <th>extubation_score</th>\n",
       "      <th>re_intubation_deid_date</th>\n",
       "      <th>icu_ward</th>\n",
       "    </tr>\n",
       "  </thead>\n",
       "  <tbody>\n",
       "    <tr>\n",
       "      <th>0</th>\n",
       "      <td>PC0192</td>\n",
       "      <td>22/06/2004</td>\n",
       "      <td>NaN</td>\n",
       "      <td>Male</td>\n",
       "      <td>1</td>\n",
       "      <td>22/12/2016 11:53</td>\n",
       "      <td>18/02/2017 17:13</td>\n",
       "      <td>1</td>\n",
       "      <td>10/01/2017 18:00</td>\n",
       "      <td>1</td>\n",
       "      <td>1</td>\n",
       "      <td>28/12/2016 18:00</td>\n",
       "      <td>5</td>\n",
       "      <td>11/01/2017 14:00</td>\n",
       "      <td>FLAMI</td>\n",
       "    </tr>\n",
       "  </tbody>\n",
       "</table>\n",
       "</div>"
      ],
      "text/plain": [
       "  Project ID birth_deid_date  death_deid_date   sex  icu_visit  \\\n",
       "0     PC0192      22/06/2004              NaN  Male          1   \n",
       "\n",
       "  icu_start_deid_dttm icu_end_deid_dttm  failed_extubation_flag  \\\n",
       "0    22/12/2016 11:53  18/02/2017 17:13                       1   \n",
       "\n",
       "  failed_extubation_deid_date  intubation_flag  extubation_flag  \\\n",
       "0            10/01/2017 18:00                1                1   \n",
       "\n",
       "  extubation_deid_date  extubation_score re_intubation_deid_date icu_ward  \n",
       "0     28/12/2016 18:00                 5        11/01/2017 14:00    FLAMI  "
      ]
     },
     "execution_count": 2,
     "metadata": {},
     "output_type": "execute_result"
    }
   ],
   "source": [
    "# importing data\n",
    "# numpy array with columns of date/time and num_value\n",
    "\n",
    "PC_0192_details = pd.read_csv(\"Details_PC-0192.csv\", sep=',')\n",
    "PC_0192_details"
   ]
  },
  {
   "cell_type": "code",
   "execution_count": 3,
   "metadata": {},
   "outputs": [],
   "source": [
    "# changing required fields to correct datetime data type to avoid string issues\n",
    "\n",
    "PC_0192_details['failed_extubation_deid_date'] = pd.to_datetime(PC_0192_details['failed_extubation_deid_date'], format='%d/%m/%Y %H:%M')\n",
    "PC_0192_details['re_intubation_deid_date'] = pd.to_datetime(PC_0192_details['re_intubation_deid_date'], format='%d/%m/%Y %H:%M')\n"
   ]
  },
  {
   "cell_type": "code",
   "execution_count": 4,
   "metadata": {},
   "outputs": [
    {
     "name": "stdout",
     "output_type": "stream",
     "text": [
      "2017-01-10 18:00:00 2017-01-11 14:00:00\n"
     ]
    }
   ],
   "source": [
    "failed_extubation = PC_0192_details.iloc[0,8]\n",
    "re_intubation = PC_0192_details.iloc[0,13]\n",
    "\n",
    "print(failed_extubation, re_intubation)"
   ]
  },
  {
   "cell_type": "code",
   "execution_count": 5,
   "metadata": {},
   "outputs": [
    {
     "data": {
      "text/html": [
       "<div>\n",
       "<style scoped>\n",
       "    .dataframe tbody tr th:only-of-type {\n",
       "        vertical-align: middle;\n",
       "    }\n",
       "\n",
       "    .dataframe tbody tr th {\n",
       "        vertical-align: top;\n",
       "    }\n",
       "\n",
       "    .dataframe thead th {\n",
       "        text-align: right;\n",
       "    }\n",
       "</style>\n",
       "<table border=\"1\" class=\"dataframe\">\n",
       "  <thead>\n",
       "    <tr style=\"text-align: right;\">\n",
       "      <th></th>\n",
       "      <th>monitor</th>\n",
       "      <th>record_date_time</th>\n",
       "      <th>num_value</th>\n",
       "    </tr>\n",
       "  </thead>\n",
       "  <tbody>\n",
       "    <tr>\n",
       "      <th>0</th>\n",
       "      <td>ARTd</td>\n",
       "      <td>2016-12-26 18:36:04</td>\n",
       "      <td>70</td>\n",
       "    </tr>\n",
       "    <tr>\n",
       "      <th>1</th>\n",
       "      <td>ARTm</td>\n",
       "      <td>2016-12-26 18:36:04</td>\n",
       "      <td>85</td>\n",
       "    </tr>\n",
       "    <tr>\n",
       "      <th>2</th>\n",
       "      <td>ARTs</td>\n",
       "      <td>2016-12-26 18:36:04</td>\n",
       "      <td>121</td>\n",
       "    </tr>\n",
       "    <tr>\n",
       "      <th>3</th>\n",
       "      <td>ARTd</td>\n",
       "      <td>2016-12-26 18:36:09</td>\n",
       "      <td>71</td>\n",
       "    </tr>\n",
       "    <tr>\n",
       "      <th>4</th>\n",
       "      <td>ARTm</td>\n",
       "      <td>2016-12-26 18:36:09</td>\n",
       "      <td>87</td>\n",
       "    </tr>\n",
       "    <tr>\n",
       "      <th>...</th>\n",
       "      <td>...</td>\n",
       "      <td>...</td>\n",
       "      <td>...</td>\n",
       "    </tr>\n",
       "    <tr>\n",
       "      <th>1392312</th>\n",
       "      <td>ABPs</td>\n",
       "      <td>2017-01-23 15:08:05</td>\n",
       "      <td>132</td>\n",
       "    </tr>\n",
       "    <tr>\n",
       "      <th>1392313</th>\n",
       "      <td>ABPd</td>\n",
       "      <td>2017-01-23 15:08:09</td>\n",
       "      <td>62</td>\n",
       "    </tr>\n",
       "    <tr>\n",
       "      <th>1392314</th>\n",
       "      <td>ABPm</td>\n",
       "      <td>2017-01-23 15:08:09</td>\n",
       "      <td>82</td>\n",
       "    </tr>\n",
       "    <tr>\n",
       "      <th>1392315</th>\n",
       "      <td>ABPs</td>\n",
       "      <td>2017-01-23 15:08:09</td>\n",
       "      <td>124</td>\n",
       "    </tr>\n",
       "    <tr>\n",
       "      <th>1392316</th>\n",
       "      <td>ABPm</td>\n",
       "      <td>2017-01-23 15:08:15</td>\n",
       "      <td>66</td>\n",
       "    </tr>\n",
       "  </tbody>\n",
       "</table>\n",
       "<p>1392317 rows × 3 columns</p>\n",
       "</div>"
      ],
      "text/plain": [
       "        monitor    record_date_time  num_value\n",
       "0          ARTd 2016-12-26 18:36:04         70\n",
       "1          ARTm 2016-12-26 18:36:04         85\n",
       "2          ARTs 2016-12-26 18:36:04        121\n",
       "3          ARTd 2016-12-26 18:36:09         71\n",
       "4          ARTm 2016-12-26 18:36:09         87\n",
       "...         ...                 ...        ...\n",
       "1392312    ABPs 2017-01-23 15:08:05        132\n",
       "1392313    ABPd 2017-01-23 15:08:09         62\n",
       "1392314    ABPm 2017-01-23 15:08:09         82\n",
       "1392315    ABPs 2017-01-23 15:08:09        124\n",
       "1392316    ABPm 2017-01-23 15:08:15         66\n",
       "\n",
       "[1392317 rows x 3 columns]"
      ]
     },
     "execution_count": 5,
     "metadata": {},
     "output_type": "execute_result"
    }
   ],
   "source": [
    "PC_0192_ABF_data = pd.read_csv(\"PC0192/PC0192_1_ABF.csv\", sep=',')\n",
    "PC_0192_ABF_data['record_date_time'] = pd.to_datetime(PC_0192_ABF_data['record_date_time'], format='%Y-%m-%d %H:%M:%S')\n",
    "PC_0192_ABF_data\n"
   ]
  },
  {
   "cell_type": "code",
   "execution_count": null,
   "metadata": {},
   "outputs": [],
   "source": []
  }
 ],
 "metadata": {
  "interpreter": {
   "hash": "908e60022c9d4979c292b8b79e14df3460174af298c7d4fb047b137ea57e6458"
  },
  "kernelspec": {
   "display_name": "Python 3.8.11 ('base')",
   "language": "python",
   "name": "python3"
  },
  "language_info": {
   "codemirror_mode": {
    "name": "ipython",
    "version": 3
   },
   "file_extension": ".py",
   "mimetype": "text/x-python",
   "name": "python",
   "nbconvert_exporter": "python",
   "pygments_lexer": "ipython3",
   "version": "3.8.11"
  },
  "orig_nbformat": 4
 },
 "nbformat": 4,
 "nbformat_minor": 2
}
